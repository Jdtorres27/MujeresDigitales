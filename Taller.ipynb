{
  "nbformat": 4,
  "nbformat_minor": 0,
  "metadata": {
    "colab": {
      "name": "Taller.ipynb",
      "provenance": [],
      "collapsed_sections": [],
      "authorship_tag": "ABX9TyMR+jkENuTFD1t2y5JOaO7h",
      "include_colab_link": true
    },
    "kernelspec": {
      "name": "python3",
      "display_name": "Python 3"
    },
    "language_info": {
      "name": "python"
    }
  },
  "cells": [
    {
      "cell_type": "markdown",
      "metadata": {
        "id": "view-in-github",
        "colab_type": "text"
      },
      "source": [
        "<a href=\"https://colab.research.google.com/github/Jdtorres27/MujeresDigitales/blob/main/Taller.ipynb\" target=\"_parent\"><img src=\"https://colab.research.google.com/assets/colab-badge.svg\" alt=\"Open In Colab\"/></a>"
      ]
    },
    {
      "cell_type": "markdown",
      "metadata": {
        "id": "cPF4xO17OpzE"
      },
      "source": [
        "**Taller**\n",
        "---\n",
        "1. El Bootcamp comenzo el 26 de Julio del 2021, se les explico a las estudiantes que se les evaluaría de la siguiente forma:\n",
        "\n",
        "Tareas= 10% Talleres=25% Asistencia=5% Participación=15% Proyecto=45%\n",
        "\n",
        "teniendo en cuenta las ponderaciones de calificación del bootcamp, las estudiantes deciden desarrollar un programa que les permita saber cuanto tendría que sacar en el proyecto para tener una definitiva de 3.7 minimo en el curso. si las notas que llevan hasta el momento son las siguientes:\n",
        "\n",
        "Tareas=4.5 Talleres=4 Asistencia=5 Paticipación=4\n",
        "\n",
        "¿Cuanto tendrían que sacar en el proyecto?\n"
      ]
    },
    {
      "cell_type": "code",
      "metadata": {
        "colab": {
          "base_uri": "https://localhost:8080/"
        },
        "id": "V2Bs0gTPhQ_w",
        "outputId": "dba7f86b-d00e-4820-fa8c-f164446d6c77"
      },
      "source": [
        "print('Inicio el Bootcamp el 26 de julio de 2021\\n')\n",
        "print('Porcentaje requerido para nota definitiva:\\n')\n",
        "print(' Tareas:10%\\n','Talleres:25%\\n','Asistencia:5%\\n','Participación:15%\\n','Proyecto:45%\\n')\n",
        "\n",
        "por1=0.5\n",
        "por2=1.25\n",
        "por3=0.25\n",
        "por4=0.75\n",
        "por5=2.25\n",
        "\n",
        "porcentaje=(por1 + por2 + por3 + por4)\n",
        "n1=float(input('Ingrese nota Tareas: '))\n",
        "n2=float(input('Ingrese nota Talleres: '))\n",
        "n3=float(input('Ingrese nota Asistencia: '))\n",
        "n4=float(input('Ingrese nota Participación: '))\n",
        "parcial=((n1 + n2 + n3 + n4)/20)*porcentaje\n",
        "parpro=(3.7-parcial)\n",
        "print(' Para sacar una definitiva de 3.7 como miínimo en el curso,\\n', 'usted necesita una nota de: ',\"{:.1f}\".format(parpro))\n",
        "\n",
        "\n"
      ],
      "execution_count": 7,
      "outputs": [
        {
          "output_type": "stream",
          "text": [
            "Inicio el Bootcamp el 26 de julio de 2021\n",
            "\n",
            "Porcentaje requerido para nota definitiva:\n",
            "\n",
            " Tareas:10%\n",
            " Talleres:25%\n",
            " Asistencia:5%\n",
            " Participación:15%\n",
            " Proyecto:45%\n",
            "\n",
            "Ingrese nota Tareas: 4.5\n",
            "Ingrese nota Talleres: 4\n",
            "Ingrese nota Asistencia: 5\n",
            "Ingrese nota Participación: 4\n",
            " Para sacar una definitiva de 3.7 como miínimo en el curso,\n",
            " usted necesita una nota de:  1.3\n"
          ],
          "name": "stdout"
        }
      ]
    },
    {
      "cell_type": "markdown",
      "metadata": {
        "id": "hZlbNUUtO7zk"
      },
      "source": [
        "2. La empresa VIVAFLY tiene como eslogan: \"Satisfacción y plenitud en un solo viaje\". Por lo cual, uno de los medios que utiliza VIVAFLY para mantener la satisfacción al cliente, es realizar rifas a lo largo del año para fomentar mayor unión y entendimiento. Para el mes de septiembre, por motivos de celebración de Amor y Amistad, la empresa decide sortear los siguientes viajes a los 5 clientes con más antigüedad:\n",
        "\n",
        "Viaje todo incluído para dos personas a San Andrés(Premio 1)\n",
        "\n",
        "un pasadía a los termales de San Vicente incluyendo almuerzo (Premio 2)\n",
        "\n",
        "Viaje todo incluido para dos personas a Santa Marta (Premio 3)\n",
        "\n",
        "Pasadía al desierto de Tatacoa (Sin incluír alimentación) (Premio 4)\n",
        "\n",
        "La empresa utilizará para el sorteo el método de balotera. A continuación se menciona el color ganador por premio:\n",
        "\n",
        "Rosado= Premio 1\n",
        "\n",
        "Verde=Premio 2\n",
        "\n",
        "Azul=Premio 3\n",
        "\n",
        "Gris=Premio 4\n",
        "\n",
        "Roja=No hay premio\n",
        "\n",
        "La probabilidad de sacar una balota rosada es del 15%, verde 20%, azul 5%, gris 20% y roja 40%.\n",
        "\n",
        "Adicionalmente, para las personas que SI obtengan premio, recibirán un bono en efectivo del porcentaje que represente la probabilidad de ganar con cada balota sobre un valor de 1.000.000 pesos. Sin embargo, se debe tener en cuenta que, Si al aplicar el porcentaje arroja un valor inferior a 120.000, no se les dará el bono en efectivo sino dos boletas de cine 4D para la película en estreno del mes incluyendo un solo combo de palomitas.Por otro lado, para la persona que saque balota roja obtendrá un premio de 120.000 pesos.\n",
        "\n",
        "**Nota:** El sorteo se realiza con el método de NO reemplazo. Es decir, la probabilidad de sacar cada una de las balotas es la misma para los 5 clientes. Porque a medida que vayan sacando las balotas ganadoras estás se regresan a la balotera y se mantendrá la misma cantidad de balotas.\n",
        "\n",
        "Teniendo en cuenta lo anterior.Se le pide a la analista que genere un código donde se pueda observar las respectivas premiaciones.\n",
        "\n",
        "Las entradas deben ser las siguientes:\n",
        "\n",
        "Nombre de la concursante\n",
        "\n",
        "Color de balota\n",
        "\n",
        "Salida:\n",
        "\n",
        "Premio\n",
        "Enunciado de salida: \"La empresa VIVAFLY se complace en anunciar que La participante _ ganó _ en nuestro sorteo de viajes de AMOR y AMISTAD\"\n",
        "\n",
        "Ejemplo: \"La empresa VIVAFLY se complace en anunciar que La participante ANA ganó un pasadía a los termales de San Vicente en nuestro sorteo de viajes de AMOR y AMISTAD\""
      ]
    }
  ]
}