{
  "nbformat": 4,
  "nbformat_minor": 0,
  "metadata": {
    "colab": {
      "name": "Clase3.ipynb",
      "provenance": [],
      "collapsed_sections": [],
      "authorship_tag": "ABX9TyNi5soukYFrlJGq2dE5+neF",
      "include_colab_link": true
    },
    "kernelspec": {
      "name": "python3",
      "display_name": "Python 3"
    },
    "language_info": {
      "name": "python"
    }
  },
  "cells": [
    {
      "cell_type": "markdown",
      "metadata": {
        "id": "view-in-github",
        "colab_type": "text"
      },
      "source": [
        "<a href=\"https://colab.research.google.com/github/Jdtorres27/MujeresDigitales/blob/main/Clase3.ipynb\" target=\"_parent\"><img src=\"https://colab.research.google.com/assets/colab-badge.svg\" alt=\"Open In Colab\"/></a>"
      ]
    },
    {
      "cell_type": "code",
      "metadata": {
        "id": "vZ3sb30q5fog"
      },
      "source": [
        " co"
      ],
      "execution_count": null,
      "outputs": []
    },
    {
      "cell_type": "markdown",
      "metadata": {
        "id": "vHyuka1V5QEN"
      },
      "source": [
        "**Estructuras de Condicionales (Control)**\n",
        "---\n",
        "Al momento de construir una instrucción de tipo condicional se deberá comprender que dichas instrucciones están diseñadas para ayudar en la toma de decisiones:\n",
        "\n",
        "Ejemplo:\n",
        "**Si** Pedro va a la tienda por la izquierá da llegar más rápido, sino se demorará más.\n",
        "Existen varios tipos de instrucciones, algunos pueden ser simples y otros múltiples. Sin embargo solo se generan dos resultados.\n",
        "1. Verdader\n",
        "2. Falso\n",
        "\n",
        "En Python tales resultados serian True o False.\n",
        "\n",
        "1. Igualdad (==) // 2==7 // False\n",
        "2. Diferencia (!=) // rosado=verde // True\n",
        "3. Menor que (<) // 12<11 // False\n",
        "4. Mayor que (<) // 1>1.5 // False\n",
        "5. Menor o igual que (<=) //30<=30 // True\n",
        "6. Mayor o igual que (>=) // 1>=2 // True\n",
        "\n",
        "En condiciones múltiples , podemos enlazar los operadores lógicos:\n",
        "\n",
        "1. y (and)\n",
        "2. o (or)\n",
        "3. No (no)\n",
        "\n",
        "Ejemplos:\n",
        "\n",
        "1. 3==8 and \n",
        "2.\n",
        "3.\n",
        "\n",
        "Para aplicar los operadores matemáticos "
      ]
    },
    {
      "cell_type": "code",
      "metadata": {
        "id": "2BpYzJWWDbzw"
      },
      "source": [
        ""
      ],
      "execution_count": null,
      "outputs": []
    },
    {
      "cell_type": "markdown",
      "metadata": {
        "id": "bBrqDxzyDfy2"
      },
      "source": [
        "En español es conocido como \"si no\". Este comando permite relacionar las acciones que debería realizar en cado de que la condición"
      ]
    },
    {
      "cell_type": "code",
      "metadata": {
        "colab": {
          "base_uri": "https://localhost:8080/"
        },
        "id": "ITJEOezBDs0v",
        "outputId": "5dea4066-e16c-41f0-9df6-03230a27ca3c"
      },
      "source": [
        "num=int (input('Escribir un número cualquiera:')) \n",
        "if num == 200:\n",
        "  print('Escribiste el 200')\n",
        "else: \n",
        "  print('El número escrito No Es 200')"
      ],
      "execution_count": null,
      "outputs": [
        {
          "output_type": "stream",
          "text": [
            "Escribir un número cualquiera:200\n",
            "Escribiste el 200\n"
          ],
          "name": "stdout"
        }
      ]
    },
    {
      "cell_type": "code",
      "metadata": {
        "colab": {
          "base_uri": "https://localhost:8080/"
        },
        "id": "hWlK-jl5EeRH",
        "outputId": "33e0724d-0d73-4461-cacd-24ce995b9305"
      },
      "source": [
        "num=int (input('Escribir un número cualquiera:')) \n",
        "if num == 200:\n",
        "  print('Escribiste el 200')\n",
        "elif num >200:\n",
        "  print('El número escrito es Mayor a 200')\n",
        "else: \n",
        "  print('El número escrito No Es 200')"
      ],
      "execution_count": null,
      "outputs": [
        {
          "output_type": "stream",
          "text": [
            "Escribir un número cualquiera:100\n",
            "El número escrito No Es 200\n"
          ],
          "name": "stdout"
        }
      ]
    },
    {
      "cell_type": "markdown",
      "metadata": {
        "id": "I00NkHUEHiDl"
      },
      "source": [
        "**Condcionales Multiples** \n",
        "---\n",
        "Cuando se presetan situaciones con más de una condición que dependen unas de otras, estas se pueden tratar mediante el manejo de varias sentencias o comandos if, o mendiante el manejo adecuado del comando elif. Sin embargo, en muchos casos cuando hay múltiples condciones,la programacón necesita mayor cantidad de líneas de código.\n",
        "En esos casos, es necesario, el uso de operadores lógicos como el and y el or."
      ]
    },
    {
      "cell_type": "code",
      "metadata": {
        "colab": {
          "base_uri": "https://localhost:8080/"
        },
        "id": "NKC-mNAXIhEe",
        "outputId": "621fee1a-5a43-407d-bfd3-e6775eeb38ae"
      },
      "source": [
        "x=int(input('valor ')) #Condicional anidada\n",
        "if 0<x:\n",
        "  if x<10:\n",
        "    print('x es un número positivo')"
      ],
      "execution_count": null,
      "outputs": [
        {
          "output_type": "stream",
          "text": [
            "valor 20\n"
          ],
          "name": "stdout"
        }
      ]
    },
    {
      "cell_type": "code",
      "metadata": {
        "colab": {
          "base_uri": "https://localhost:8080/"
        },
        "id": "1Hl7XT-CJ8QX",
        "outputId": "e7975100-843b-40e5-e163-f586be6ee871"
      },
      "source": [
        "x=int(input('valor ')) #Expresión booleana\n",
        "if 0<x and x<10:\n",
        "    print('x es un número de un solo dígito')"
      ],
      "execution_count": null,
      "outputs": [
        {
          "output_type": "stream",
          "text": [
            "valor 20\n"
          ],
          "name": "stdout"
        }
      ]
    },
    {
      "cell_type": "code",
      "metadata": {
        "colab": {
          "base_uri": "https://localhost:8080/"
        },
        "id": "Jgo_MtSrKULa",
        "outputId": "c3da1a4d-3a95-4306-b8d6-1f37df468a95"
      },
      "source": [
        "x=int(input('valor '))\n",
        "if 0<x<10:\n",
        "    print('x es un número de un solo dígito')"
      ],
      "execution_count": null,
      "outputs": [
        {
          "output_type": "stream",
          "text": [
            "valor 3\n",
            "x es un número de un solo dígito\n"
          ],
          "name": "stdout"
        }
      ]
    },
    {
      "cell_type": "markdown",
      "metadata": {
        "id": "n8Z0eGvZLONC"
      },
      "source": [
        "Esta condición es la misma expresión booleana compuesta y la misma expresión condicional anidada.\n",
        "\n",
        "## **Estructuras de control iterativas**\n",
        "---\n",
        "Las variables son claves en las estructuras de control iterativas, puesto que son el medio entre la iteración y la condición que se esta ejecutando.\n",
        "\n",
        "**¿Qué es iteración?**\n",
        "Iteración es la consecución del código tantas veces requiera hasta que se cumplan las condiciones establecidas.\n",
        "\n",
        "*Banderas* Son las variable que toman un valor preferiblemente binario, booleano e indican un estado. Ejemplo:\n",
        "\n"
      ]
    },
    {
      "cell_type": "code",
      "metadata": {
        "colab": {
          "base_uri": "https://localhost:8080/"
        },
        "id": "IGj4PQTGOL73",
        "outputId": "005460b9-9d7e-4fe1-fa7a-4350d8135524"
      },
      "source": [
        "suma=False\n",
        "total=0\n",
        "a=3\n",
        "b=10\n",
        "if (suma==False):\n",
        "  total=a+b\n",
        "  suma=True\n",
        "  print()\n",
        "\n",
        "if(suma==True):\n",
        "    print('El valor total de la suma es:', total)"
      ],
      "execution_count": null,
      "outputs": [
        {
          "output_type": "stream",
          "text": [
            "\n",
            "El valor total de la suma es: 13\n"
          ],
          "name": "stdout"
        }
      ]
    },
    {
      "cell_type": "markdown",
      "metadata": {
        "id": "hdWz5LDmPgrQ"
      },
      "source": [
        "La variable suma en este caso de tipo booleano y su función es indicar cuando se ejecutó la suma. Por lo tanto tiene un estdo inicial \"False\", pero luego de ejecutar la suma, toma el valor True.\n",
        "Cuando para esto escuchamos la frase \"la bandera se levanto\". Esto quiere decir que una u otra acción hizo que el estado de la bandera cambiara.\n",
        "\n",
        "Ejemplo cualitativo: **CASO CONTAGIO**\n"
      ]
    },
    {
      "cell_type": "code",
      "metadata": {
        "colab": {
          "base_uri": "https://localhost:8080/",
          "height": 310
        },
        "id": "FKmb0BX-Qes4",
        "outputId": "bf8564d2-e357-435f-d070-e06fcdb3c556"
      },
      "source": [
        "paciente=input(\"Nombre del paciente \")\n",
        "contagio_v=input(\"¿Te has realizado la prueba de contagio? \")\n",
        "\n",
        "if (contagio_v==\"No\"):\n",
        "  print(\"La paciente \", paciente, \"no se ha realizado la prueba para validar, por favor realizarse en el centro de salud\")\n",
        "  print(\"Aplicarse la prueba\")\n",
        "  \n",
        "if (contagio_v==\"Pendiente\"):\n",
        "  print(paciente,\"por favor revisar el correo donde se le adjunto el resultado de la prueba\")\n",
        "p\n",
        "if (contagio_v==\"Si\"):\n",
        "  print(paciente, \"Dado que es POSITIVO el resultado de su prueba, mantener una distancia de las personas por lo menos 15 días\")\n",
        "\n"
      ],
      "execution_count": null,
      "outputs": [
        {
          "output_type": "stream",
          "text": [
            "Nombre del paciente July \n",
            "¿Te has realizado la prueba de contagio? No\n",
            "La paciente  July  no se ha realizado la prueba para validar, por favor realizarse en el centro de salud\n",
            "Aplicarse la prueba\n"
          ],
          "name": "stdout"
        },
        {
          "output_type": "error",
          "ename": "NameError",
          "evalue": "ignored",
          "traceback": [
            "\u001b[0;31m---------------------------------------------------------------------------\u001b[0m",
            "\u001b[0;31mNameError\u001b[0m                                 Traceback (most recent call last)",
            "\u001b[0;32m<ipython-input-18-55723e616a06>\u001b[0m in \u001b[0;36m<module>\u001b[0;34m()\u001b[0m\n\u001b[1;32m      8\u001b[0m \u001b[0;32mif\u001b[0m \u001b[0;34m(\u001b[0m\u001b[0mcontagio_v\u001b[0m\u001b[0;34m==\u001b[0m\u001b[0;34m\"Pendiente\"\u001b[0m\u001b[0;34m)\u001b[0m\u001b[0;34m:\u001b[0m\u001b[0;34m\u001b[0m\u001b[0;34m\u001b[0m\u001b[0m\n\u001b[1;32m      9\u001b[0m   \u001b[0mprint\u001b[0m\u001b[0;34m(\u001b[0m\u001b[0mpaciente\u001b[0m\u001b[0;34m,\u001b[0m\u001b[0;34m\"por favor revisar el correo donde se le adjunto el resultado de la prueba\"\u001b[0m\u001b[0;34m)\u001b[0m\u001b[0;34m\u001b[0m\u001b[0;34m\u001b[0m\u001b[0m\n\u001b[0;32m---> 10\u001b[0;31m \u001b[0mp\u001b[0m\u001b[0;34m\u001b[0m\u001b[0;34m\u001b[0m\u001b[0m\n\u001b[0m\u001b[1;32m     11\u001b[0m \u001b[0;32mif\u001b[0m \u001b[0;34m(\u001b[0m\u001b[0mcontagio_v\u001b[0m\u001b[0;34m==\u001b[0m\u001b[0;34m\"Si\"\u001b[0m\u001b[0;34m)\u001b[0m\u001b[0;34m:\u001b[0m\u001b[0;34m\u001b[0m\u001b[0;34m\u001b[0m\u001b[0m\n\u001b[1;32m     12\u001b[0m   \u001b[0mprint\u001b[0m\u001b[0;34m(\u001b[0m\u001b[0mpaciente\u001b[0m\u001b[0;34m,\u001b[0m \u001b[0;34m\"Dado que es POSITIVO el resultado de su prueba, mantener una distancia de las personas por lo menos 15 días\"\u001b[0m\u001b[0;34m)\u001b[0m\u001b[0;34m\u001b[0m\u001b[0;34m\u001b[0m\u001b[0m\n",
            "\u001b[0;31mNameError\u001b[0m: name 'p' is not defined"
          ]
        }
      ]
    },
    {
      "cell_type": "markdown",
      "metadata": {
        "id": "QxkYPq78TsUD"
      },
      "source": [
        "**Ejercicio en clase**\n",
        "---\n",
        "El Bootcamp comenzo el26 de Julio de 2021, se les explicó a las asistentes que se les evaluaría de la siguiente forma:\n",
        "\n",
        "Tareas= 10%\n",
        "Talleres=25%\n",
        "Asistencia=5%\n",
        "Participación=15%\n",
        "Proyecto=45%\n",
        "\n",
        "Teniendo en cuenta las ponderaciones de calificación del Bootcamp, las estudiantes deciden desarrollar un programa que les permita saber cuánto tendría que sacar en el proyecto para tener una definitiva de 3.7 mínimo. Si las notas que llevan hasta el momento son las siguiente:\n",
        "\n",
        "Tareas= 4.5\n",
        "Talleres=4\n",
        "Asistencia=5\n",
        "Participación=4\n",
        "\n",
        "¿Cuánto tendrían que sacar en el Proyecto?\n",
        "\n"
      ]
    }
  ]
}