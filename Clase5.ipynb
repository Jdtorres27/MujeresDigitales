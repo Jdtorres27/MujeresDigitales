{
  "nbformat": 4,
  "nbformat_minor": 0,
  "metadata": {
    "colab": {
      "name": "Clase5.ipynb",
      "provenance": [],
      "collapsed_sections": [],
      "authorship_tag": "ABX9TyMLDAJxU/0nX87coXHd48BH",
      "include_colab_link": true
    },
    "kernelspec": {
      "name": "python3",
      "display_name": "Python 3"
    },
    "language_info": {
      "name": "python"
    }
  },
  "cells": [
    {
      "cell_type": "markdown",
      "metadata": {
        "id": "view-in-github",
        "colab_type": "text"
      },
      "source": [
        "<a href=\"https://colab.research.google.com/github/Jdtorres27/MujeresDigitales/blob/main/Clase5.ipynb\" target=\"_parent\"><img src=\"https://colab.research.google.com/assets/colab-badge.svg\" alt=\"Open In Colab\"/></a>"
      ]
    },
    {
      "cell_type": "markdown",
      "metadata": {
        "id": "yr6YEUJEyLz3"
      },
      "source": [
        "**Continuación de Ciclos**\n",
        "---\n",
        "Ciclo FOR - Bucle FOR\n",
        "\n",
        " "
      ]
    },
    {
      "cell_type": "code",
      "metadata": {
        "id": "GIZxRukoyeUV"
      },
      "source": [
        "for i in range(1,5):\n",
        "  print(i)"
      ],
      "execution_count": null,
      "outputs": []
    },
    {
      "cell_type": "markdown",
      "metadata": {
        "id": "RRPEF9tjyh1i"
      },
      "source": [
        "Para dejar claro las partes que componente el bucle OFR, vamos a dejar claro las siguientes definiciones:\n",
        "\n",
        "1. **Iterable**: Sin los objetos que pueden ser iterados. Por ejemplo una lista, valor tipo cadena, etc.\n",
        "2. **Iterador**: Son objetos que hacen referencia a cada uno de los elementos hay un método denominado \"next\" que permite hacer referencia a los elementos del conjunto\n",
        "\n",
        "**#for (variable) in (iterable):\n",
        "  *# (Bloque código)\n",
        "\n",
        "Algunos ejemplos de iterables en Python son las listas, cadenas, diccionarios, tuplas, etc.\n",
        "\n",
        "¿Cómo saber que es iterable a la hora de programas?\n",
        "\n",
        "Podemos darnos cuenta que es iterable usando la función isinstance()."
      ]
    },
    {
      "cell_type": "code",
      "metadata": {
        "colab": {
          "base_uri": "https://localhost:8080/"
        },
        "id": "_VINdPtHyv1E",
        "outputId": "618c8dcd-c113-44c9-94a4-ebae95e89df1"
      },
      "source": [
        "from collections import Iterable #Paquete Iterable Collections \n",
        "lista=[1,2,3,4,5,6,7,8,9,0]\n",
        "a=\"computador\"\n",
        "b=14\n",
        "print(isinstance(lista,Iterable))\n",
        "print(isinstance(a,Iterable))"
      ],
      "execution_count": 3,
      "outputs": [
        {
          "output_type": "stream",
          "text": [
            "True\n",
            "True\n"
          ],
          "name": "stdout"
        }
      ]
    },
    {
      "cell_type": "code",
      "metadata": {
        "colab": {
          "base_uri": "https://localhost:8080/",
          "height": 203
        },
        "id": "6gzNVxu9y1kQ",
        "outputId": "9e378ac4-7def-4286-98e4-3cd00d8b3b34"
      },
      "source": [
        "#va a generra error, proque no se ha hecho el frim\n",
        "list=[1,2,3,4,5,6,7,8,9,0]\n",
        "a=\"computador\"\n",
        "b=10\n",
        "print(isinstance(lista,a))"
      ],
      "execution_count": 4,
      "outputs": [
        {
          "output_type": "error",
          "ename": "TypeError",
          "evalue": "ignored",
          "traceback": [
            "\u001b[0;31m---------------------------------------------------------------------------\u001b[0m",
            "\u001b[0;31mTypeError\u001b[0m                                 Traceback (most recent call last)",
            "\u001b[0;32m<ipython-input-4-df5bba86577a>\u001b[0m in \u001b[0;36m<module>\u001b[0;34m()\u001b[0m\n\u001b[1;32m      3\u001b[0m \u001b[0ma\u001b[0m\u001b[0;34m=\u001b[0m\u001b[0;34m\"computador\"\u001b[0m\u001b[0;34m\u001b[0m\u001b[0;34m\u001b[0m\u001b[0m\n\u001b[1;32m      4\u001b[0m \u001b[0mb\u001b[0m\u001b[0;34m=\u001b[0m\u001b[0;36m10\u001b[0m\u001b[0;34m\u001b[0m\u001b[0;34m\u001b[0m\u001b[0m\n\u001b[0;32m----> 5\u001b[0;31m \u001b[0mprint\u001b[0m\u001b[0;34m(\u001b[0m\u001b[0misinstance\u001b[0m\u001b[0;34m(\u001b[0m\u001b[0mlista\u001b[0m\u001b[0;34m,\u001b[0m\u001b[0ma\u001b[0m\u001b[0;34m)\u001b[0m\u001b[0;34m)\u001b[0m\u001b[0;34m\u001b[0m\u001b[0;34m\u001b[0m\u001b[0m\n\u001b[0m",
            "\u001b[0;31mTypeError\u001b[0m: isinstance() arg 2 must be a type or tuple of types"
          ]
        }
      ]
    },
    {
      "cell_type": "code",
      "metadata": {
        "colab": {
          "base_uri": "https://localhost:8080/",
          "height": 221
        },
        "id": "62hJF4aLzJJk",
        "outputId": "130d1bba-5075-4077-a68b-636d00634847"
      },
      "source": [
        "#genera error porque es una variable fija\n",
        "a=30\n",
        "for i in a:\n",
        "  print(i)"
      ],
      "execution_count": 5,
      "outputs": [
        {
          "output_type": "error",
          "ename": "TypeError",
          "evalue": "ignored",
          "traceback": [
            "\u001b[0;31m---------------------------------------------------------------------------\u001b[0m",
            "\u001b[0;31mTypeError\u001b[0m                                 Traceback (most recent call last)",
            "\u001b[0;32m<ipython-input-5-bfe6cb12367a>\u001b[0m in \u001b[0;36m<module>\u001b[0;34m()\u001b[0m\n\u001b[1;32m      1\u001b[0m \u001b[0;31m#genera error porque es una variable fija\u001b[0m\u001b[0;34m\u001b[0m\u001b[0;34m\u001b[0m\u001b[0;34m\u001b[0m\u001b[0m\n\u001b[1;32m      2\u001b[0m \u001b[0ma\u001b[0m\u001b[0;34m=\u001b[0m\u001b[0;36m30\u001b[0m\u001b[0;34m\u001b[0m\u001b[0;34m\u001b[0m\u001b[0m\n\u001b[0;32m----> 3\u001b[0;31m \u001b[0;32mfor\u001b[0m \u001b[0mi\u001b[0m \u001b[0;32min\u001b[0m \u001b[0ma\u001b[0m\u001b[0;34m:\u001b[0m\u001b[0;34m\u001b[0m\u001b[0;34m\u001b[0m\u001b[0m\n\u001b[0m\u001b[1;32m      4\u001b[0m   \u001b[0mprint\u001b[0m\u001b[0;34m(\u001b[0m\u001b[0mi\u001b[0m\u001b[0;34m)\u001b[0m\u001b[0;34m\u001b[0m\u001b[0;34m\u001b[0m\u001b[0m\n",
            "\u001b[0;31mTypeError\u001b[0m: 'int' object is not iterable"
          ]
        }
      ]
    },
    {
      "cell_type": "markdown",
      "metadata": {
        "id": "saLzK20VwWUS"
      },
      "source": [
        "Para entender los iteradores, es importante conocer la función *iter()*, esta función puede ser llamada sobre uno bjeto que sea iterable, y nos devolverá un iterador.\n",
        "\n",
        "Ejemplo:"
      ]
    },
    {
      "cell_type": "code",
      "metadata": {
        "id": "H5EmOjxmwTud",
        "colab": {
          "base_uri": "https://localhost:8080/"
        },
        "outputId": "653f582b-c451-4a76-e749-12f39715f762"
      },
      "source": [
        "lista=[1,2,3,4,5,6,7,8,9,0]\n",
        "ref=iter(lista)\n",
        "print(ref)\n",
        "print(type(ref))"
      ],
      "execution_count": 6,
      "outputs": [
        {
          "output_type": "stream",
          "text": [
            "<list_iterator object at 0x7fcb0c086e90>\n",
            "<class 'list_iterator'>\n"
          ],
          "name": "stdout"
        }
      ]
    },
    {
      "cell_type": "markdown",
      "metadata": {
        "id": "1CdidzOjztHt"
      },
      "source": [
        "Al imprimir Ref es un iterador, de la clase *List_iterador*. Hace referencia a la lista original y nos permite acceder a sus elementos con la función *next().\n",
        "\n",
        "**Nota**\n",
        "\n",
        "Cada vez que llamenos a next() sobre Ref, nos devuelve el siguiente elemento de la lista original.\n",
        "\n",
        "Por ejemplo, quiero acceder al elemento 7, tendremos que llamar siete veces a next"
      ]
    },
    {
      "cell_type": "code",
      "metadata": {
        "colab": {
          "base_uri": "https://localhost:8080/"
        },
        "id": "XXWAPXQ2z3O9",
        "outputId": "386ae796-61c5-495b-dc94-179f7c6af502"
      },
      "source": [
        "lista=[1,2,3,4,5,6,7,8,9,0]\n",
        "ref=iter(lista)\n",
        "print(next(ref))\n",
        "print(next(ref))\n",
        "print(next(ref))\n",
        "print(next(ref))\n",
        "print(next(ref))\n",
        "print(next(ref))\n",
        "print(next(ref))\n",
        "print(next(ref))\n",
        "print(next(ref))\n",
        "print(next(ref))\n"
      ],
      "execution_count": 7,
      "outputs": [
        {
          "output_type": "stream",
          "text": [
            "1\n",
            "2\n",
            "3\n",
            "4\n",
            "5\n",
            "6\n",
            "7\n",
            "8\n",
            "9\n",
            "0\n"
          ],
          "name": "stdout"
        }
      ]
    },
    {
      "cell_type": "markdown",
      "metadata": {
        "id": "oS2UzxP7xYSy"
      },
      "source": [
        "**Tener en cuenta**\n",
        "---\n",
        "Existen otros iteradores para las diferentes clases:\n",
        "1. str_iterador para cadenas\n",
        "2. list_iterador para listas\n",
        "3. set_iterador para conjuntos\n",
        "4. dict_keyiterador para diccionarios "
      ]
    },
    {
      "cell_type": "markdown",
      "metadata": {
        "id": "srohsjtGx__M"
      },
      "source": [
        "#**For anidados**\n",
        "---\n",
        "Es posible anidar los for, es decir, ingresar uno dentro de otro, como lo vemos a continuación:\n"
      ]
    },
    {
      "cell_type": "code",
      "metadata": {
        "colab": {
          "base_uri": "https://localhost:8080/"
        },
        "id": "SAx7IaEayOgq",
        "outputId": "bacee30d-8012-4127-f673-df29030834aa"
      },
      "source": [
        "#Vamos a crearuna lista de listas, lo cual conforma una especie de matriz\n",
        "#Recordemos que una matriz se compone de valores que se distribuyen en filas y columnas.\n",
        "qa=[[1,2,3,],\n",
        "   [4,5,6],\n",
        "   [7,8,9]]\n",
        "\n",
        "for i in qa:\n",
        "  print(i)\n",
        "\n",
        "for i in qa:\n",
        "  for j in i:\n",
        "    print(j)"
      ],
      "execution_count": null,
      "outputs": [
        {
          "output_type": "stream",
          "text": [
            "[1, 2, 3]\n",
            "[4, 5, 6]\n",
            "[7, 8, 9]\n",
            "1\n",
            "2\n",
            "3\n",
            "4\n",
            "5\n",
            "6\n",
            "7\n",
            "8\n",
            "9\n"
          ],
          "name": "stdout"
        }
      ]
    },
    {
      "cell_type": "markdown",
      "metadata": {
        "id": "2i7zZCVAz3Mt"
      },
      "source": [
        "Si queremos acceder a cada elemnto invividualmete, se procede a realizar un bulce de FOR anidado. Es decir, un for se encargará de iterar las columnas y el otro las filas."
      ]
    },
    {
      "cell_type": "code",
      "metadata": {
        "colab": {
          "base_uri": "https://localhost:8080/"
        },
        "id": "AZ15i0wy0Kig",
        "outputId": "7bcb178f-6013-463c-afd5-fdcca48ce95a"
      },
      "source": [
        "#Veámos más ejemplos:\n",
        "\n",
        "#Otra forma de utilizar sólo el for, es la iteracion al reves, es decir, se pede iterar la lista desde el ultimo al primer elemento\n",
        "lista=[1,2,3,4,5,6,7,8,9]\n",
        "for i in lista [::-1]:\n",
        "  print(i)\n"
      ],
      "execution_count": null,
      "outputs": [
        {
          "output_type": "stream",
          "text": [
            "9\n",
            "8\n",
            "7\n",
            "6\n",
            "5\n",
            "4\n",
            "3\n",
            "2\n",
            "1\n"
          ],
          "name": "stdout"
        }
      ]
    },
    {
      "cell_type": "code",
      "metadata": {
        "colab": {
          "base_uri": "https://localhost:8080/"
        },
        "id": "Zs2jktJe04Su",
        "outputId": "e8194baf-1faa-47fb-e040-cd2372e0bdf7"
      },
      "source": [
        "lista=[1,2,3,4,5,6,7,8,9,0]\n",
        "for i in lista [::2]:\n",
        "  print(i)\n",
        "print(\"-------------------------------\")\n",
        "a=\"computador\"\n",
        "for i in a[::4]:\n",
        "  print(i)\n"
      ],
      "execution_count": null,
      "outputs": [
        {
          "output_type": "stream",
          "text": [
            "1\n",
            "3\n",
            "5\n",
            "7\n",
            "9\n",
            "-------------------------------\n",
            "c\n",
            "u\n",
            "o\n"
          ],
          "name": "stdout"
        }
      ]
    },
    {
      "cell_type": "code",
      "metadata": {
        "colab": {
          "base_uri": "https://localhost:8080/"
        },
        "id": "B3Fomo2m1vR8",
        "outputId": "0dfef55b-c450-45a7-bf42-165ce1ad733a"
      },
      "source": [
        "#Usando rangos\n",
        "for i in range(20):  \n",
        "  print(i) \n",
        "#El range() genera uan secuencia de números que van desde 0 por defecto\n",
        "#El número que se pasa como parámetro menos 2.\n",
        "\n",
        "#*Estructura: range()\n",
        "\n",
        "#Observemos un truco con el range:\n",
        "\n",
        "print(list(range(2,10,2)))"
      ],
      "execution_count": null,
      "outputs": [
        {
          "output_type": "stream",
          "text": [
            "0\n",
            "1\n",
            "2\n",
            "3\n",
            "4\n",
            "5\n",
            "6\n",
            "7\n",
            "8\n",
            "9\n",
            "10\n",
            "11\n",
            "12\n",
            "13\n",
            "14\n",
            "15\n",
            "16\n",
            "17\n",
            "18\n",
            "19\n"
          ],
          "name": "stdout"
        }
      ]
    },
    {
      "cell_type": "markdown",
      "metadata": {
        "id": "fnAHDgLa3W6z"
      },
      "source": [
        "**Listas de comprensión**\n",
        "\n",
        "---\n",
        "Estas nos permiten crear listas de elementos en una sola linea de código.  \n",
        "\n",
        "Ejemplo: crear una lista de las potencias a las 3 de los números impares de 0 a 9\n",
        "\n"
      ]
    },
    {
      "cell_type": "code",
      "metadata": {
        "colab": {
          "base_uri": "https://localhost:8080/"
        },
        "id": "TLzWZFiE4HED",
        "outputId": "e2bfb2e8-8d95-443b-8f5e-b46ee94a44df"
      },
      "source": [
        "tres=[i**3 for i in range(1,10,2)]\n",
        "#1,3,5,7,9\n",
        "print(tres)\n",
        "tres=[]\n",
        "\n",
        "\n",
        "tres=[]\n",
        "for i in range(1,10)\n",
        "#1,3,5,7,9\n",
        "print(tres)\n",
        "tres=[]"
      ],
      "execution_count": null,
      "outputs": [
        {
          "output_type": "stream",
          "text": [
            "[0, 8, 64, 216, 512]\n"
          ],
          "name": "stdout"
        }
      ]
    },
    {
      "cell_type": "code",
      "metadata": {
        "colab": {
          "base_uri": "https://localhost:8080/"
        },
        "id": "TJPGFJl27NPG",
        "outputId": "2f87c956-dfc1-4756-ecc2-d03d331f6454"
      },
      "source": [
        "pera=\"mama ama a ema\"\n",
        "pera2=[i for i in pera if i=='m']\n",
        "print(pera2)\n",
        "\n",
        "pera=\"mama ama a ema\"\n",
        "pera2=[i for i in pera if i=='a']\n",
        "print(pera2)\n",
        "\n",
        "print (len(pera2))"
      ],
      "execution_count": null,
      "outputs": [
        {
          "output_type": "stream",
          "text": [
            "['m', 'm', 'm', 'm']\n",
            "['a', 'a', 'a', 'a', 'a', 'a']\n",
            "6\n"
          ],
          "name": "stdout"
        }
      ]
    }
  ]
}