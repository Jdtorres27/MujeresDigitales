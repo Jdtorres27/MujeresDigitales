{
  "nbformat": 4,
  "nbformat_minor": 0,
  "metadata": {
    "colab": {
      "name": "Clase4.ipynb",
      "provenance": [],
      "collapsed_sections": [],
      "authorship_tag": "ABX9TyNbOzvYQWvhoB0rBGznZ0c5",
      "include_colab_link": true
    },
    "kernelspec": {
      "name": "python3",
      "display_name": "Python 3"
    },
    "language_info": {
      "name": "python"
    }
  },
  "cells": [
    {
      "cell_type": "markdown",
      "metadata": {
        "id": "view-in-github",
        "colab_type": "text"
      },
      "source": [
        "<a href=\"https://colab.research.google.com/github/Jdtorres27/MujeresDigitales/blob/main/Clase4.ipynb\" target=\"_parent\"><img src=\"https://colab.research.google.com/assets/colab-badge.svg\" alt=\"Open In Colab\"/></a>"
      ]
    },
    {
      "cell_type": "markdown",
      "metadata": {
        "id": "Hp8JG5uAi8JC"
      },
      "source": [
        "**Continuación de estructutas de control Iterativas**\n",
        "---\n",
        "**ACUMULADORES**\n",
        "\n",
        "Se le da este nombre a las varibles que se encargan de \"almacenar\" algún tipo de información. \n",
        "*Ejemplo*:\n",
        "El caso de la compra de viveres en la tienda:\n"
      ]
    },
    {
      "cell_type": "code",
      "metadata": {
        "colab": {
          "base_uri": "https://localhost:8080/"
        },
        "id": "nGIjdXt0j02B",
        "outputId": "adc45198-a388-41ac-dd01-b49d13ebd313"
      },
      "source": [
        "nombre=input(\"Nombre del consumidor \")\n",
        "listacomp=\"\"\n",
        "print(nombre, \"escribe los siguientes viveres para su compra en el supermercado\")\n",
        "listacomp=listacomp+\"Paca de papel higiénico, \"\n",
        "print(\"-----Compras que tengo que hacer-----\")\n",
        "listacomp=listacomp+\"2 Shampoo Pantene 2 and 1, \"\n",
        "listacomp=listacomp+\"2 pacasde pañales Pequeñin etapa 3 \"\n",
        "print(listacomp)\n"
      ],
      "execution_count": null,
      "outputs": [
        {
          "output_type": "stream",
          "text": [
            "Nombre del consumidor july\n",
            "july escribe los siguientes viveres para su compra en el supermercado\n",
            "-----Compras que tengo que hacer-----\n",
            "Paca de papel higiénico, 2 Shampoo Pantene 2 and 1, 2 pacasde pañales Pequeñin etapa 3 \n"
          ],
          "name": "stdout"
        }
      ]
    },
    {
      "cell_type": "markdown",
      "metadata": {
        "id": "tGHry6_qld-m"
      },
      "source": [
        "La variable \"listacomp\" nos esta sirviendo para acumular información de lista de compras.\n",
        "Podemos observar, que **No** estamos creando una variabe por cada ictem, sino una variable definida nos sirve para almacenar la información.\n",
        "\n",
        "---\n",
        "\n",
        "\n",
        "A continuación observamos un ejemplo donde se ponga en práctica el uso de acumulacioón en una variable usando cantidades y precios.\n"
      ]
    },
    {
      "cell_type": "code",
      "metadata": {
        "id": "zt8JZHksmYbr",
        "colab": {
          "base_uri": "https://localhost:8080/"
        },
        "outputId": "53e2e699-a8b0-4f26-9bfd-54192246cb46"
      },
      "source": [
        "ppph=14000 #precio de paquete de papel higiénico \n",
        "cpph=2 #cantidad de paquete de papel higiénico\n",
        "pshampoo=18000 #precio de shampoo pantene 2 and 1\n",
        "cshampoo=4 #unidades de shampoo \n",
        "ppbebe=17000 #precio de pacas de pañales pequeñin \n",
        "cpbebe=3 #cantidad de pacas de pañales pequenin\n",
        "\n",
        "subtotal=0\n",
        "print(\"Calculando el total de la compra...\")\n",
        "total_pph=ppph+cpph\n",
        "print(\"El valor total del papel higienico es: \", total_pph)\n",
        "subtotal=subtotal+total_pph\n",
        "print(\"--- El subtotal es: $\", subtotal)\n",
        "total_shampoo=pshampoo*cshampoo\n",
        "print(\"El valor total de Shampoo es:$\", total_shampoo)\n",
        "subtotal=subtotal+total_shampoo\n",
        "print(\"---El subtotal es: $\", subtotal)\n",
        "total_pbebe=ppbebe*cpbebe\n",
        "print(\"El valor total de Pañales es:$\", subtotal)\n",
        "\n",
        "subtotal=subtotal+total_pbebe\n",
        "print(\"El total de su compra es:$\", subtotal)\n"
      ],
      "execution_count": 3,
      "outputs": [
        {
          "output_type": "stream",
          "text": [
            "Calculando el total de la compra...\n",
            "El valor total del papel higienico es:  14002\n",
            "--- El subtotal es: $ 14002\n",
            "El valor total de Shampoo es:$ 72000\n",
            "---El subtotal es: $ 86002\n",
            "El valor total de Pañales es:$ 86002\n",
            "El total de su compra es:$ 137002\n"
          ],
          "name": "stdout"
        }
      ]
    },
    {
      "cell_type": "markdown",
      "metadata": {
        "id": "Uf05NsPGpAvo"
      },
      "source": [
        "**Contadores**\n",
        "---\n",
        "Tiene mucha relación con los *acumuladores* visto en el apartado anterior. Estás variables se caracterizan por ser variables de contol, es decir, contolan la **cantidad** de veces que se ejecuta determinada acción.\n",
        "\n",
        "Usando el ejemplo anterior y modificandolo un poco, podemos desarrollar el siguiente algoritmo:\n"
      ]
    },
    {
      "cell_type": "code",
      "metadata": {
        "id": "nTMrlga5pwl-",
        "colab": {
          "base_uri": "https://localhost:8080/"
        },
        "outputId": "9963e784-11be-4d74-a97c-7946847c5fc4"
      },
      "source": [
        "#Se comprará pañales por unidad en este caso.\n",
        "\n",
        "contp=0   #la variable se llama conteo de variables, se declara vacia, proque sera de tipo cadena, y alcacenara datos de tipo númerico\n",
        "print(\"Se realizara la compra de pañales etapa 3--- Se ha iniciado la compra y asignación en el carrito. En total hay:\", contp, \"pañales\")\n",
        "contp=contp+1\n",
        "\n",
        "print(\"Se realizara la compra de pañales etapa 3--- Se ha iniciado la compra y asignación en el carrito. Ahora hay:\", contp, \"pañal(es)\")\n",
        "contp=contp+1\n",
        "\n",
        "print(\"Ahora hay:\", contp, \"pañal(es)\")\n",
        "contp=contp+1\n",
        "\n",
        "print(\"Ahora hay:\", contp, \"pañal(es)\")\n",
        "contp=contp+1\n",
        "\n",
        "print(\"Ahora hay:\", contp, \"pañal(es)\")\n",
        "contp=contp+1\n",
        "\n",
        "print(\"Ahora hay:\", contp, \"pañal(es)\")\n",
        "contp=contp+1\n",
        "\n",
        "\n"
      ],
      "execution_count": 5,
      "outputs": [
        {
          "output_type": "stream",
          "text": [
            "Se realizara la compra de pañales etapa 3--- Se ha iniciado la compra y asignación en el carrito. En total hay: 0 pañales\n",
            "Se realizara la compra de pañales etapa 3--- Se ha iniciado la compra y asignación en el carrito. Ahora hay: 1 pañal(es)\n",
            "Ahora hay: 2 pañal(es)\n",
            "Ahora hay: 3 pañal(es)\n",
            "Ahora hay: 4 pañal(es)\n",
            "Ahora hay: 5 pañal(es)\n"
          ],
          "name": "stdout"
        }
      ]
    },
    {
      "cell_type": "markdown",
      "metadata": {
        "id": "zfMiX-3orCRW"
      },
      "source": [
        "**CICLOS CONTROLADOS POR CONDICIONES**\n",
        "\n",
        "*WHILE*\n",
        "\n",
        "---\n",
        "Recordemos que las variables de control, nos permite manejar estados, pasar de un estado a otro es por ejemplo: Una variable que no contiene elementos a contenerlo o una variable con un elemento particular (Acumulador o contador) y cambiarlo por completo (Bandera).\n",
        "\n",
        "Estas variables de control son la base de ciclos de control. Siendo más claros, pasar de una adición manual a algo más automatizado.\n",
        "\n",
        "Empezamos con el ciclo \"WHILE\". En español es \"mientras\". Este ciclo se compone de una **condición** y su ** bloque de código**. Lo que nos quiere de While es que el bloque de código se ejecutará **mientras** la condición da como resultado True or False.\n",
        "\n"
      ]
    },
    {
      "cell_type": "code",
      "metadata": {
        "colab": {
          "base_uri": "https://localhost:8080/"
        },
        "id": "R8eJuXYvsNm1",
        "outputId": "94b1b5b8-ba29-4f4c-bc9b-d74eb3e0ad00"
      },
      "source": [
        "lapiz=5\n",
        "contlapiz=0\n",
        "print(\"Se ha iniciado la compra. En total hay : \", contlapiz,lapiz)\n",
        "\n",
        "while (contlapiz<lapiz):\n",
        "  contlapiz=contlapiz+1\n",
        "  print(\"Se ha realizado la compra de Lapices. Ahora hay \", contlapiz, \"lapiz\")"
      ],
      "execution_count": null,
      "outputs": [
        {
          "output_type": "stream",
          "text": [
            "Se ha iniciado la compra. En total hay :  0 5\n",
            "Se ha realizado la compra de Lapices. Ahora hay  1 lapiz\n",
            "Se ha realizado la compra de Lapices. Ahora hay  2 lapiz\n",
            "Se ha realizado la compra de Lapices. Ahora hay  3 lapiz\n",
            "Se ha realizado la compra de Lapices. Ahora hay  4 lapiz\n",
            "Se ha realizado la compra de Lapices. Ahora hay  5 lapiz\n"
          ],
          "name": "stdout"
        }
      ]
    },
    {
      "cell_type": "markdown",
      "metadata": {
        "id": "aIIzhvWpvEjn"
      },
      "source": [
        "**Nota**\n",
        "---\n",
        "Tener en cuenta que dentro del ciclo de WHILE se va afectando las varibles \n",
        "implicadas en la declaración de la condicón que debe complir el ciclo.  En el ejemplo anterior la variable contlapiz para que en algún momento la condición sea verdadera y termine el ciclo se tiene que cmplir la condición (contlapiz<lapiz). De lo contrario , tendríamos un ciclo que nunca se detendría, lo cual decantaría en cliclo interminable.\n",
        "\n",
        "En el caso, es que la varible de almacenamiento, mientras sea menor, en este caso lapices 5, se hara el conteo, después ya no.\n",
        "\n"
      ]
    },
    {
      "cell_type": "markdown",
      "metadata": {
        "id": "mRvr1jmfoOca"
      },
      "source": [
        "**CICLO DE FOR**\n",
        "--- \n",
        "Es un ciclo especializado optimizado para los ciclos controlados por cantidad. Se compone de tres elementos:\n",
        "\n",
        "1. La variable de iteración\n",
        "2. Elemento de iteración\n",
        "3. Bloque de código a iterar\n",
        "\n",
        "**¿Ventajas de usar el FOR?**\n",
        "\n",
        "En Python es muy importante y se considera una herramienta bastante flexible y poderosa, por permitir ingresar estructuras de datos complejas, cadena de caracteres, rangos, entre otros. Los elementos de iteración usados en esta estructura de datos, son necesarios que tengan la siguente característica:\n",
        "\n",
        "1.cantidad definia(Esto lo diferencia totalmente el *while*)\n",
        "\n",
        "*¿Por qué?*\n",
        "\n",
        "El while parte de una condición de verdad, pero el **FOR** parte de una cantidad definida.\n",
        "\n"
      ]
    },
    {
      "cell_type": "code",
      "metadata": {
        "colab": {
          "base_uri": "https://localhost:8080/"
        },
        "id": "aoj2j_5dxPIw",
        "outputId": "fc2cde94-98b1-421f-b174-301080a3ca3b"
      },
      "source": [
        "##Retomando el ejemplo de la compra de lapices\n",
        "print(\"Se ha iniciado la compra. En total hay: 0 lapices.\")\n",
        "for i in range(1,6): ##En los rangos, la función range manejan un intervalo abierto a la derecha y cerrado a la izquierda\n",
        "  print(\"Se ha realizado la compra de lapices. Ahora hay \", i , \"lapices.\")\n"
      ],
      "execution_count": null,
      "outputs": [
        {
          "output_type": "stream",
          "text": [
            "Se ha iniciado la compra. En total hay: 0 lapices.\n",
            "Se ha realizado la compra de lapices. Ahora hay  1 lapices.\n",
            "Se ha realizado la compra de lapices. Ahora hay  2 lapices.\n",
            "Se ha realizado la compra de lapices. Ahora hay  3 lapices.\n",
            "Se ha realizado la compra de lapices. Ahora hay  4 lapices.\n",
            "Se ha realizado la compra de lapices. Ahora hay  5 lapices.\n"
          ],
          "name": "stdout"
        }
      ]
    },
    {
      "cell_type": "code",
      "metadata": {
        "id": "pAeN8QgCxivj"
      },
      "source": [
        "# la iteración se representa pro la letra i"
      ],
      "execution_count": null,
      "outputs": []
    }
  ]
}