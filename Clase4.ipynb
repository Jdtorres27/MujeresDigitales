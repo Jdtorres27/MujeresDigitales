{
  "nbformat": 4,
  "nbformat_minor": 0,
  "metadata": {
    "colab": {
      "name": "Clase4.ipynb",
      "provenance": [],
      "collapsed_sections": [],
      "authorship_tag": "ABX9TyOV7NMDzujgAv36ywsAbDFH",
      "include_colab_link": true
    },
    "kernelspec": {
      "name": "python3",
      "display_name": "Python 3"
    },
    "language_info": {
      "name": "python"
    }
  },
  "cells": [
    {
      "cell_type": "markdown",
      "metadata": {
        "id": "view-in-github",
        "colab_type": "text"
      },
      "source": [
        "<a href=\"https://colab.research.google.com/github/Jdtorres27/MujeresDigitales/blob/main/Clase4.ipynb\" target=\"_parent\"><img src=\"https://colab.research.google.com/assets/colab-badge.svg\" alt=\"Open In Colab\"/></a>"
      ]
    },
    {
      "cell_type": "markdown",
      "metadata": {
        "id": "Hp8JG5uAi8JC"
      },
      "source": [
        "**Continuación de estructutas de control Iterativas**\n",
        "---\n",
        "**ACUMULADORES**\n",
        "\n",
        "Se le da este nombre a las varibles que se encargan de \"almacenar\" algún tipo de información. *Ejemplo*:\n",
        "El caso de la compra de viveres en la tienda:\n"
      ]
    },
    {
      "cell_type": "code",
      "metadata": {
        "colab": {
          "base_uri": "https://localhost:8080/"
        },
        "id": "nGIjdXt0j02B",
        "outputId": "adc45198-a388-41ac-dd01-b49d13ebd313"
      },
      "source": [
        "nombre=input(\"Nombre del consumidor \")\n",
        "listacomp=\"\"\n",
        "print(nombre, \"escribe los siguientes viveres para su compra en el supermercado\")\n",
        "listacomp=listacomp+\"Paca de papel higiénico, \"\n",
        "print(\"-----Compras que tengo que hacer-----\")\n",
        "listacomp=listacomp+\"2 Shampoo Pantene 2 and 1, \"\n",
        "listacomp=listacomp+\"2 pacasde pañales Pequeñin etapa 3 \"\n",
        "print(listacomp)\n"
      ],
      "execution_count": null,
      "outputs": [
        {
          "output_type": "stream",
          "text": [
            "Nombre del consumidor july\n",
            "july escribe los siguientes viveres para su compra en el supermercado\n",
            "-----Compras que tengo que hacer-----\n",
            "Paca de papel higiénico, 2 Shampoo Pantene 2 and 1, 2 pacasde pañales Pequeñin etapa 3 \n"
          ],
          "name": "stdout"
        }
      ]
    },
    {
      "cell_type": "markdown",
      "metadata": {
        "id": "tGHry6_qld-m"
      },
      "source": [
        "La variable \"listacomp\" nos esta sirviendo para acumular información de lista de compras.\n",
        "Podemos observar, que **No** estamos creando una variabe por cada ictem, sino una variable definida nos sirve para almacenar la información.\n",
        "A caontinuación observamos un ejemplo donde se ponga en práctica el uso de acumulacion en una variable usando cantidades y precios.\n"
      ]
    },
    {
      "cell_type": "code",
      "metadata": {
        "id": "zt8JZHksmYbr"
      },
      "source": [
        "ppph=14000 #precio de paquete de papel higiénico \n",
        "cpph=2 #cantidad de paquete de papel higiénico\n",
        "pshampoo=18000 #precio de shampoo pantene 2 and 1\n",
        "cshampoo=4 #unidades de shampoo \n",
        "ppbebe=17000 #precio de pacas de pañales pequeñin \n",
        "cpbebe=3 #cantidad de pacas de pañales pequenin\n",
        "\n",
        "subtotal=0\n",
        "print(\"Calculando el total de la compra...\")\n",
        "total_pph=ppph+cpph\n",
        "print=(\"El valor total del papel higienico es: \", total_pph)\n",
        "subtotal=subtotal+total_pph\n",
        "print(\"--- El subtotal es: $\", subtotal)\n",
        "total_shampoo*cshampoo"
      ],
      "execution_count": null,
      "outputs": []
    },
    {
      "cell_type": "markdown",
      "metadata": {
        "id": "Uf05NsPGpAvo"
      },
      "source": [
        "**Contadores**\n",
        "---\n",
        "Tiene mucha relación con los *acumuladores* visto en el apartado anterior. Ests variables se caracterizan por ser variables de contol, es decir, contolan **cantidad** de veces que se ejecuta determinada acción.\n",
        "\n",
        "Usando el ejemplo anterior y modificandolo un poco, podemos desarrollar el siguiente algoritmo:\n"
      ]
    },
    {
      "cell_type": "code",
      "metadata": {
        "id": "nTMrlga5pwl-"
      },
      "source": [
        "##Se comprará pañales por unidad en este caso.\n",
        "\n",
        "contp=0\n",
        "print(\"Se reaalizara la compra de pañales etapa 3... Se ha iniciado la comparay asinación en el carrito. En total hay: \", contp, \"pañales\")\n",
        "contp=contp+1\n",
        "print(\"Ahora  hay\")\n",
        "\n",
        "\n"
      ],
      "execution_count": null,
      "outputs": []
    },
    {
      "cell_type": "markdown",
      "metadata": {
        "id": "zfMiX-3orCRW"
      },
      "source": [
        "**CICLOS CONTROLADOS POR CONDICIONES**\n",
        "\n",
        "*WHILE*\n",
        "\n",
        "---\n",
        "Recordemos que las variables de control, nos permite manejar estados, pasar de un estado a otro es por ejemplo: Una variable que no contiene elementos a contenerlo o una variable un elemnto particular (Acumulador o contador) y cambiarlo por completo (Bandera).\n",
        "\n",
        "Estas variables de control son la base de ciclos de control. Siendo más claros, pasar de una adición manual a algo más automatizado.\n",
        "\n",
        "Empezamos con el ciclo \"WHILE\". En español es \"mientras\". Este ciclo se compone de una **condición** y su ** bloque de código**. Lo que nos quiere de While es que el bloque de código se ejecutará **mientras** la condición da como resultado True or False.\n",
        "\n"
      ]
    },
    {
      "cell_type": "code",
      "metadata": {
        "colab": {
          "base_uri": "https://localhost:8080/"
        },
        "id": "R8eJuXYvsNm1",
        "outputId": "94b1b5b8-ba29-4f4c-bc9b-d74eb3e0ad00"
      },
      "source": [
        "lapiz=5\n",
        "contlapiz=0\n",
        "print(\"Se ha iniciado la compra. En total hay : \", contlapiz,lapiz)\n",
        "\n",
        "while (contlapiz<lapiz):\n",
        "  contlapiz=contlapiz+1\n",
        "  print(\"Se ha realizado la compra de Lapices. Ahora hay \", contlapiz, \"lapiz\")"
      ],
      "execution_count": null,
      "outputs": [
        {
          "output_type": "stream",
          "text": [
            "Se ha iniciado la compra. En total hay :  0 5\n",
            "Se ha realizado la compra de Lapices. Ahora hay  1 lapiz\n",
            "Se ha realizado la compra de Lapices. Ahora hay  2 lapiz\n",
            "Se ha realizado la compra de Lapices. Ahora hay  3 lapiz\n",
            "Se ha realizado la compra de Lapices. Ahora hay  4 lapiz\n",
            "Se ha realizado la compra de Lapices. Ahora hay  5 lapiz\n"
          ],
          "name": "stdout"
        }
      ]
    },
    {
      "cell_type": "markdown",
      "metadata": {
        "id": "aIIzhvWpvEjn"
      },
      "source": [
        "Tener en cuenta que dentro del ciclo de WHILE se va afectando las varibles implicadas en la declaración de la condicón que debe complir el ciclo.  En el ejemplo anterior la variable contlapiz para que en algún momento la condición sea verdadera y termine el ciclo se tiene que cmplir la condición (contlapiz<leapiz). De lo contrario , tendriamos un ciblo que nunca se detendra, lo cual decantaria enn cliclo interminable.\n",
        "\n"
      ]
    },
    {
      "cell_type": "markdown",
      "metadata": {
        "id": "mRvr1jmfoOca"
      },
      "source": [
        "**CICLO DE FOR**\n",
        "--- \n",
        "Es un ciclo especializado optimizado para los ciclos controlados por cantidad. Se compone de tres elementos:\n",
        "\n",
        "1. La variable de iteración\n",
        "2. Elemento de iteración\n",
        "3. Bloque de código a iterar\n",
        "\n",
        "**¿Ventajas de usar el FOR?**\n",
        "\n",
        "En Python es muy importante y se considera una herramienta bastante flexible y poderosa, por permitir ingresar estructuras de datos compeljas, cadena de caracteres, rangos,entre otros. Los elementos de iteración usados en esta estructrura de datos son necesarios que tengan la siguente caracteristica:\n",
        "\n",
        "1.cantidad definia(Esto lo diferencia totalmente elwhile)\n",
        "\n",
        "El while parte de una condicion de verdad, pero el **FOR** parte de una cantidad definida.\n",
        "\n"
      ]
    },
    {
      "cell_type": "code",
      "metadata": {
        "colab": {
          "base_uri": "https://localhost:8080/"
        },
        "id": "aoj2j_5dxPIw",
        "outputId": "fc2cde94-98b1-421f-b174-301080a3ca3b"
      },
      "source": [
        "##Retomando el ejemplo de la compra de lapices\n",
        "print(\"Se ha iniciado la compra. En total hay: 0 lapices.\")\n",
        "for i in range(1,6): ##En los rangos, la función range manejan un intervalo abierto a la derecha y cerrado a la izquierda\n",
        "  print(\"Se ha realizado la compra de lapices. Ahora hay \", i , \"lapices.\")\n"
      ],
      "execution_count": null,
      "outputs": [
        {
          "output_type": "stream",
          "text": [
            "Se ha iniciado la compra. En total hay: 0 lapices.\n",
            "Se ha realizado la compra de lapices. Ahora hay  1 lapices.\n",
            "Se ha realizado la compra de lapices. Ahora hay  2 lapices.\n",
            "Se ha realizado la compra de lapices. Ahora hay  3 lapices.\n",
            "Se ha realizado la compra de lapices. Ahora hay  4 lapices.\n",
            "Se ha realizado la compra de lapices. Ahora hay  5 lapices.\n"
          ],
          "name": "stdout"
        }
      ]
    }
  ]
}