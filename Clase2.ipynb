{
  "nbformat": 4,
  "nbformat_minor": 0,
  "metadata": {
    "colab": {
      "name": "Clase2.ipynb",
      "provenance": [],
      "authorship_tag": "ABX9TyMaGJNyFbhR16qU9proY22+",
      "include_colab_link": true
    },
    "kernelspec": {
      "name": "python3",
      "display_name": "Python 3"
    },
    "language_info": {
      "name": "python"
    }
  },
  "cells": [
    {
      "cell_type": "markdown",
      "metadata": {
        "id": "view-in-github",
        "colab_type": "text"
      },
      "source": [
        "<a href=\"https://colab.research.google.com/github/Jdtorres27/MujeresDigitales/blob/main/Clase2.ipynb\" target=\"_parent\"><img src=\"https://colab.research.google.com/assets/colab-badge.svg\" alt=\"Open In Colab\"/></a>"
      ]
    },
    {
      "cell_type": "code",
      "metadata": {
        "colab": {
          "base_uri": "https://localhost:8080/"
        },
        "id": "upTA9xYF1YKL",
        "outputId": "7f5438fc-8824-46b2-885e-9f5e04f81edc"
      },
      "source": [
        "numero_botellas=12\n",
        "print(numero_botellas + 8)"
      ],
      "execution_count": 1,
      "outputs": [
        {
          "output_type": "stream",
          "text": [
            "20\n"
          ],
          "name": "stdout"
        }
      ]
    },
    {
      "cell_type": "code",
      "metadata": {
        "colab": {
          "base_uri": "https://localhost:8080/"
        },
        "id": "e5Xheu2n1p83",
        "outputId": "65e977b5-82ef-4bcf-bfb1-19fde84d4fa4"
      },
      "source": [
        "numero_botellas=12\n",
        "numero_botellas=numero_botellas + 8\n",
        "print(numero_botellas)"
      ],
      "execution_count": 4,
      "outputs": [
        {
          "output_type": "stream",
          "text": [
            "20\n"
          ],
          "name": "stdout"
        }
      ]
    },
    {
      "cell_type": "markdown",
      "metadata": {
        "id": "RltC73oI1ySZ"
      },
      "source": [
        "Sumas entre los diferentes tipos de variables"
      ]
    },
    {
      "cell_type": "code",
      "metadata": {
        "colab": {
          "base_uri": "https://localhost:8080/"
        },
        "id": "5o_Axmem13EM",
        "outputId": "cda528d2-a763-4fff-fd2e-2e7540b62710"
      },
      "source": [
        "q1=100\n",
        "q2=24.5\n",
        "print(type(q1))\n",
        "print(type(q2))\n",
        "print(type(q1+q2))"
      ],
      "execution_count": 5,
      "outputs": [
        {
          "output_type": "stream",
          "text": [
            "<class 'int'>\n",
            "<class 'float'>\n",
            "<class 'float'>\n"
          ],
          "name": "stdout"
        }
      ]
    },
    {
      "cell_type": "code",
      "metadata": {
        "colab": {
          "base_uri": "https://localhost:8080/"
        },
        "id": "KOSLJP7x19C5",
        "outputId": "b9d68f17-3be1-4078-89a5-9f4e13a2861e"
      },
      "source": [
        "v1=\"quiero\"\n",
        "v2=\" un celular\"\n",
        "v3=v1+\"\"+v2\n",
        "print(v1+v2)\n",
        "print(v1+v2)\n",
        "print(v3)"
      ],
      "execution_count": 9,
      "outputs": [
        {
          "output_type": "stream",
          "text": [
            "quiero un celular\n",
            "quiero un celular\n",
            "quiero un celular\n"
          ],
          "name": "stdout"
        }
      ]
    },
    {
      "cell_type": "code",
      "metadata": {
        "colab": {
          "base_uri": "https://localhost:8080/"
        },
        "id": "IKe6t0Id2dkg",
        "outputId": "941124b8-97e0-41b2-df58-a0a75572c78f"
      },
      "source": [
        "xq2=235\n",
        "xq3=400\n",
        "print(xq2-xq3)\n",
        "\n",
        "xq2=24.66\n",
        "xq3=4\n",
        "print(type(xq2-xq3))"
      ],
      "execution_count": 10,
      "outputs": [
        {
          "output_type": "stream",
          "text": [
            "-165\n",
            "<class 'float'>\n"
          ],
          "name": "stdout"
        }
      ]
    },
    {
      "cell_type": "markdown",
      "metadata": {
        "id": "yshfejhg2tZt"
      },
      "source": [
        "**IMPORTANTE**\n",
        "---\n",
        "La resta no funciona directamente para una variale tipo cadena\n",
        "\n",
        "EJEMPLO DE ERROR\n",
        "\n",
        "v1=\"quiero\" v2=\"un celular\" v3=v1+\" \"+v2 print(v1-v2) EJEMPLO DE ERROR, **NO SE PUEDE RESTAR STRING, EN UN TIPO CADENA**"
      ]
    },
    {
      "cell_type": "code",
      "metadata": {
        "colab": {
          "base_uri": "https://localhost:8080/",
          "height": 132
        },
        "id": "VHooT5m82xNZ",
        "outputId": "d13e8bb8-c12b-4fba-977d-549fbd5a7be1"
      },
      "source": [
        "v1=\"quiero\"\n",
        "v2=\"un celular\"\n",
        "v3=v1+\" \"+v2\n",
        "print(v1-v2)\n",
        "**EJEMPLO DE ERROR, NO SE PUEDE RESTAR STRING, EN UN TIPO CADENA**"
      ],
      "execution_count": 11,
      "outputs": [
        {
          "output_type": "error",
          "ename": "SyntaxError",
          "evalue": "ignored",
          "traceback": [
            "\u001b[0;36m  File \u001b[0;32m\"<ipython-input-11-75cbef3ceed4>\"\u001b[0;36m, line \u001b[0;32m5\u001b[0m\n\u001b[0;31m    **EJEMPLO DE ERROR, NO SE PUEDE RESTAR STRING, EN UN TIPO CADENA**\u001b[0m\n\u001b[0m     ^\u001b[0m\n\u001b[0;31mSyntaxError\u001b[0m\u001b[0;31m:\u001b[0m invalid syntax\n"
          ]
        }
      ]
    },
    {
      "cell_type": "code",
      "metadata": {
        "id": "uFjgwox72348"
      },
      "source": [
        "v1=\"5\"\n",
        "v2=\"2.3\""
      ],
      "execution_count": 12,
      "outputs": []
    },
    {
      "cell_type": "markdown",
      "metadata": {
        "id": "nHL0U7dO23kA"
      },
      "source": [
        "**MULTIPLICACIÓN**\n",
        "---\n",
        "Definamos la multiplicación como la suma de varias veces un número, cantidad de veces indicadas por el otro número. Ejemplo: 4x2=4+4=8 El símbolo que se maneja es (*)"
      ]
    },
    {
      "cell_type": "markdown",
      "metadata": {
        "id": "jHK3AW8Y3y3E"
      },
      "source": [
        "**IMPORTANTE:**\n",
        "Se aplicala ley conmutativa. Recordemos que la ley conmutativa es el orden de los factores no altera el resultado (Aplica para la suma y la multiplicación)"
      ]
    },
    {
      "cell_type": "code",
      "metadata": {
        "colab": {
          "base_uri": "https://localhost:8080/"
        },
        "id": "TIFjJeeu3Ftx",
        "outputId": "b9ae3c5e-df33-40db-fb1b-97b813d97f4a"
      },
      "source": [
        "cali=5\n",
        "palmira=6\n",
        "print(cali*palmira)"
      ],
      "execution_count": 13,
      "outputs": [
        {
          "output_type": "stream",
          "text": [
            "30\n"
          ],
          "name": "stdout"
        }
      ]
    },
    {
      "cell_type": "markdown",
      "metadata": {
        "id": "S4eYjsgV3LT1"
      },
      "source": [
        "**División**\n",
        "---\n",
        "ACLARACIÓN: **NO** aplica la ley conmutativa. El símbolo de división (/)"
      ]
    },
    {
      "cell_type": "code",
      "metadata": {
        "colab": {
          "base_uri": "https://localhost:8080/"
        },
        "id": "_Xpk3iBS4BxV",
        "outputId": "9fdc0875-9b99-4aae-bc98-8cfb01a615c9"
      },
      "source": [
        "a=20\n",
        "b=4\n",
        "print(a/b)\n",
        "\n",
        "a=20\n",
        "b=4\n",
        "print(a/b, b/a, a+b, a-b)"
      ],
      "execution_count": 14,
      "outputs": [
        {
          "output_type": "stream",
          "text": [
            "5.0\n",
            "5.0 0.2 24 16\n"
          ],
          "name": "stdout"
        }
      ]
    },
    {
      "cell_type": "markdown",
      "metadata": {
        "id": "ogCJ7n1q4FXd"
      },
      "source": [
        "Para el **print** podemos separra las operaciones por variable con(,). Lo cual , no afectara la impresión de los resultados por operación asignada.\n",
        "\n",
        "**Tipos de división**\n",
        "---\n",
        "1. Divisón exacta (/)\n",
        "2. División inexacta (//)"
      ]
    }
  ]
}