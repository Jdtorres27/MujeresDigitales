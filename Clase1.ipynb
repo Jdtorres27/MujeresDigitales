{
  "nbformat": 4,
  "nbformat_minor": 0,
  "metadata": {
    "colab": {
      "name": "Clase1.ipynb",
      "provenance": [],
      "authorship_tag": "ABX9TyM0Q3AQX+EjRiEz6xJH+/2S",
      "include_colab_link": true
    },
    "kernelspec": {
      "name": "python3",
      "display_name": "Python 3"
    },
    "language_info": {
      "name": "python"
    }
  },
  "cells": [
    {
      "cell_type": "markdown",
      "metadata": {
        "id": "view-in-github",
        "colab_type": "text"
      },
      "source": [
        "<a href=\"https://colab.research.google.com/github/Jdtorres27/MujeresDigitales/blob/main/Clase1.ipynb\" target=\"_parent\"><img src=\"https://colab.research.google.com/assets/colab-badge.svg\" alt=\"Open In Colab\"/></a>"
      ]
    },
    {
      "cell_type": "markdown",
      "metadata": {
        "id": "POWB-HTxPOt_"
      },
      "source": [
        "**Introducción**\n",
        "---\n",
        "Para manejar un código limpio en Python, podemos seguir las siguientes recomentaciones:\n",
        "1. Manejar siempre minúscula \n",
        "2. Se le puede añadir números\n",
        "3. Aparecera error si no están seguidos la declaración de la variable con número asignado, es decir. Ejemplo: ana1 (Correcto) ana 1 (Incorrecto-error)\n",
        "---\n",
        "En Python hay varios tipos de datos compuestos y están disponibles por defecto en los interpretes.\n",
        "**¿De que tipos?**\n",
        "1. Númericos\n",
        "2. Secuencias\n",
        "3. Mapeos\n",
        "4. Conjuntos usados para agrupar otros valores.\n",
        "\n",
        "**Diferencia entre Constantes y Variables**\n",
        "---\n",
        "En matemáticas llamanos constante a una magnitud que no cambia con el paso del tiempo.\n",
        "Ejemplo: Contabilidad: Gastos Fijos_Muebles de oficina\n",
        "Ejemplo: 2: 6\n",
        "Por otro lado, el concepto de variable, como la cantidad que es susceptible a tomar distintos valores númericos.\n",
        "---**Ejemplo:**\n",
        "El comando int es para hacer alusión a números enteros . A parte el comando float permite valores con decimales."
      ]
    },
    {
      "cell_type": "code",
      "metadata": {
        "colab": {
          "base_uri": "https://localhost:8080/"
        },
        "id": "lycKGMB_PIXI",
        "outputId": "9b7315a9-3b14-45b7-ea71-ea64dd203702"
      },
      "source": [
        "x=5\n",
        "print(x)"
      ],
      "execution_count": 1,
      "outputs": [
        {
          "output_type": "stream",
          "text": [
            "5\n"
          ],
          "name": "stdout"
        }
      ]
    },
    {
      "cell_type": "code",
      "metadata": {
        "colab": {
          "base_uri": "https://localhost:8080/"
        },
        "id": "n6M8P0GPPg9v",
        "outputId": "563fefbb-fa20-4995-b72d-b288c52d87aa"
      },
      "source": [
        "a= 80\n",
        "b=120\n",
        "c=45\n",
        "print(a,b,c)"
      ],
      "execution_count": 2,
      "outputs": [
        {
          "output_type": "stream",
          "text": [
            "80 120 45\n"
          ],
          "name": "stdout"
        }
      ]
    },
    {
      "cell_type": "markdown",
      "metadata": {
        "id": "cEGnVPNRP0qt"
      },
      "source": [
        "**Tipos de Datos**\n",
        "-----\n",
        "**Enteros**\n",
        "\n",
        "\n",
        "*   Son los números que no tienen decimales \n",
        "*   Pueden ser positivos y negativos\n"
      ]
    },
    {
      "cell_type": "code",
      "metadata": {
        "colab": {
          "base_uri": "https://localhost:8080/"
        },
        "id": "G_BIc2FeQOCZ",
        "outputId": "8be4c151-614e-4a84-876a-f4d3f2fe89f7"
      },
      "source": [
        "a=(int(3.964))\n",
        "print(a)\n"
      ],
      "execution_count": 5,
      "outputs": [
        {
          "output_type": "stream",
          "text": [
            "3\n"
          ],
          "name": "stdout"
        }
      ]
    },
    {
      "cell_type": "code",
      "metadata": {
        "colab": {
          "base_uri": "https://localhost:8080/"
        },
        "id": "n4c2F8b3Qp6T",
        "outputId": "0fee9963-31e3-475e-ec74-82bf7a8f8868"
      },
      "source": [
        "b=int(203)\n",
        "print(b)\n",
        "c=int(3425)\n",
        "print(c)"
      ],
      "execution_count": 6,
      "outputs": [
        {
          "output_type": "stream",
          "text": [
            "203\n",
            "3425\n"
          ],
          "name": "stdout"
        }
      ]
    },
    {
      "cell_type": "markdown",
      "metadata": {
        "id": "WL3o76ZMQeJB"
      },
      "source": [
        "El comando int es para hacer alusión  a números enteros. Aparte el comando float, permite valores con decicmales. "
      ]
    },
    {
      "cell_type": "code",
      "metadata": {
        "colab": {
          "base_uri": "https://localhost:8080/"
        },
        "id": "HeHeqe8iQfBW",
        "outputId": "763a6870-6b1a-4e2e-eebc-b14706364a71"
      },
      "source": [
        "b=float(8.23)\n",
        "print(b)"
      ],
      "execution_count": 4,
      "outputs": [
        {
          "output_type": "stream",
          "text": [
            "8.23\n"
          ],
          "name": "stdout"
        }
      ]
    },
    {
      "cell_type": "code",
      "metadata": {
        "colab": {
          "base_uri": "https://localhost:8080/"
        },
        "id": "eYEv_v4yQs-u",
        "outputId": "91bd040b-974b-4523-a29d-bd93157e94ee"
      },
      "source": [
        "x=float(32.4)\n",
        "print(x)\n",
        "a=float(65.8)\n",
        "print(a)"
      ],
      "execution_count": 7,
      "outputs": [
        {
          "output_type": "stream",
          "text": [
            "32.4\n",
            "65.8\n"
          ],
          "name": "stdout"
        }
      ]
    },
    {
      "cell_type": "markdown",
      "metadata": {
        "id": "oZqDGj7bRLPY"
      },
      "source": [
        "**Tipos Cadena**\n",
        "---\n",
        "Las cadenas son texto encerrado entre comillas (Simples o Dobles) y se pueden conformar de diferentes caracteres (Númericos, Alfabéticos, Especiales #$+%). Tener en cuenta, las cadenas admiten operadores como la suma y la resta."
      ]
    },
    {
      "cell_type": "code",
      "metadata": {
        "colab": {
          "base_uri": "https://localhost:8080/"
        },
        "id": "7tM2Loj_RR4_",
        "outputId": "8f944cc8-40b8-47b5-82b0-3b3156c8bb7d"
      },
      "source": [
        "val2=\"Hola Mundo\"\n",
        "print(val2)\n",
        "val1=\"Luisa\"\n",
        "print(val1)"
      ],
      "execution_count": 10,
      "outputs": [
        {
          "output_type": "stream",
          "text": [
            "Hola Mundo\n",
            "Luisa\n"
          ],
          "name": "stdout"
        }
      ]
    },
    {
      "cell_type": "code",
      "metadata": {
        "colab": {
          "base_uri": "https://localhost:8080/"
        },
        "id": "IxUUoJ22Rv4v",
        "outputId": "22d805c2-2f01-4339-93df-88b00e8ec456"
      },
      "source": [
        "n=\"Aprender\"\n",
        "z=\"Python\"\n",
        "print(n,z)"
      ],
      "execution_count": 11,
      "outputs": [
        {
          "output_type": "stream",
          "text": [
            "Aprender Python\n"
          ],
          "name": "stdout"
        }
      ]
    },
    {
      "cell_type": "code",
      "metadata": {
        "colab": {
          "base_uri": "https://localhost:8080/"
        },
        "id": "cTNFxSH8R4Aj",
        "outputId": "94907249-a20b-4244-e6f4-4f97d317f9a8"
      },
      "source": [
        "nombre=\"July\"\n",
        "apellido=\"Torres\" \n",
        "print(nombre, apellido)"
      ],
      "execution_count": 12,
      "outputs": [
        {
          "output_type": "stream",
          "text": [
            "July Torres\n"
          ],
          "name": "stdout"
        }
      ]
    },
    {
      "cell_type": "code",
      "metadata": {
        "colab": {
          "base_uri": "https://localhost:8080/"
        },
        "id": "4L3IjrLVR8te",
        "outputId": "231e8357-3e5c-49d7-9b88-4c95d6e2f976"
      },
      "source": [
        "a1=\"Los animales \"\n",
        "b1=\"pueden ser salvajes o domésticos\"\n",
        "print(a1, b1)"
      ],
      "execution_count": 16,
      "outputs": [
        {
          "output_type": "stream",
          "text": [
            "Los animales  pueden ser salvajes o domésticos\n"
          ],
          "name": "stdout"
        }
      ]
    },
    {
      "cell_type": "markdown",
      "metadata": {
        "id": "ykhGCpfFSS_G"
      },
      "source": [
        "**Tipo Boleaneos:**\n",
        "---\n",
        "Este tipo de variable solo tendrá un valor de Verdadero o Falso.\n",
        "**Nota:**\n",
        "Son valores muy usados en condiciones y bucles "
      ]
    },
    {
      "cell_type": "code",
      "metadata": {
        "colab": {
          "base_uri": "https://localhost:8080/"
        },
        "id": "sdQq3On8ST_x",
        "outputId": "a945bf06-6b11-40f0-812e-d27d63415514"
      },
      "source": [
        "lola=True\n",
        "print(\"El valor es verdadero:\", lola, \"el cual es de tipo\", type(lola))"
      ],
      "execution_count": 15,
      "outputs": [
        {
          "output_type": "stream",
          "text": [
            "El valor es verdadero: True el cual es de tipo <class 'bool'>\n"
          ],
          "name": "stdout"
        }
      ]
    },
    {
      "cell_type": "markdown",
      "metadata": {
        "id": "OBGnddXDSYCM"
      },
      "source": [
        "Python cuenta con tipos de datos que admiten colecciones:\n",
        "1. Listas \n",
        "2. Tuplas\n",
        "3. Diccionarios\n",
        "\n",
        "**Tipos de conjuntos:**\n",
        "Son una colección de datos que se repiten:"
      ]
    },
    {
      "cell_type": "code",
      "metadata": {
        "colab": {
          "base_uri": "https://localhost:8080/"
        },
        "id": "tuwTbEG7UE4H",
        "outputId": "4d4b3107-0c41-496e-92c1-c1da88d5647f"
      },
      "source": [
        "fru=\"pera\", \"manzana\", \"naranja\"\n",
        "color= \"morado\", \"blanco\", \"azul\"\n",
        "print(fru,color)"
      ],
      "execution_count": 17,
      "outputs": [
        {
          "output_type": "stream",
          "text": [
            "('pera', 'manzana', 'naranja') ('morado', 'blanco', 'azul')\n"
          ],
          "name": "stdout"
        }
      ]
    },
    {
      "cell_type": "markdown",
      "metadata": {
        "id": "8OZ-8hB7ULdL"
      },
      "source": [
        "**Tipo listas**\n",
        "---\n",
        "Son listas la que almacenan vectores. Las listas siempre empiezan a nombarse a partir de 0.\n",
        "Ejemplo de listas en Python:\n"
      ]
    },
    {
      "cell_type": "code",
      "metadata": {
        "id": "XHbD7Cf_UMfb"
      },
      "source": [
        "ines=['5','uva','lila','perro']\n",
        "print(ines)\n",
        "fe=ines[0:3:2]\n",
        "print(fe)"
      ],
      "execution_count": null,
      "outputs": []
    },
    {
      "cell_type": "markdown",
      "metadata": {
        "id": "UKLcROPWUUEs"
      },
      "source": [
        "**Tipo Tuplas**\n",
        "---\n",
        "Es una lista que no se puede modificar después de la creación de esta: Tuplas anidadas: Agrupación (Tuplas)."
      ]
    },
    {
      "cell_type": "code",
      "metadata": {
        "colab": {
          "base_uri": "https://localhost:8080/"
        },
        "id": "QYkwSskBUK9m",
        "outputId": "39e6f348-07ce-4518-9baf-c80e5f180a49"
      },
      "source": [
        "tupla=23,28,'hello'\n",
        "print(tupla)\n",
        "otra=tupla,(1,2,3,4)\n",
        "print(otra)"
      ],
      "execution_count": 18,
      "outputs": [
        {
          "output_type": "stream",
          "text": [
            "(23, 28, 'hello')\n",
            "((23, 28, 'hello'), (1, 2, 3, 4))\n"
          ],
          "name": "stdout"
        }
      ]
    },
    {
      "cell_type": "markdown",
      "metadata": {
        "id": "z7fpjBayUdgj"
      },
      "source": [
        "**Tipos de Diccionarios**\n",
        "---\n",
        "Define los datos uno a uno entre un campo (ID - Identificador-Calve) y un valor:"
      ]
    },
    {
      "cell_type": "code",
      "metadata": {
        "id": "9te6v3ZlUib7"
      },
      "source": [
        "datos_b={\n",
        "    \"nombres\":\"Diana\",\n",
        "    \"apellidos\":\"Perea\",\n",
        "    \"Cedula\":\"2345671\",\n",
        "    \"est_civil\":\"Viuda\",\n",
        "    \"lugar_nacimiento\":\"Neiva\",\n",
        "    \"fecha_nacimiento\":\"24/12/1990\"\n",
        "      }\n",
        "\n",
        "print(\"ID deldiccionario\",datos_b.keys())\n",
        "print(\"ID deldiccionario\",datos_b.values())\n"
      ],
      "execution_count": null,
      "outputs": []
    }
  ]
}