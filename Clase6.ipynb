{
  "nbformat": 4,
  "nbformat_minor": 0,
  "metadata": {
    "colab": {
      "name": "Clase6.ipynb",
      "provenance": [],
      "collapsed_sections": [],
      "authorship_tag": "ABX9TyPOYF/BxdE77yLXiLRDMyhP",
      "include_colab_link": true
    },
    "kernelspec": {
      "name": "python3",
      "display_name": "Python 3"
    },
    "language_info": {
      "name": "python"
    }
  },
  "cells": [
    {
      "cell_type": "markdown",
      "metadata": {
        "id": "view-in-github",
        "colab_type": "text"
      },
      "source": [
        "<a href=\"https://colab.research.google.com/github/Jdtorres27/MujeresDigitales/blob/main/Clase6.ipynb\" target=\"_parent\"><img src=\"https://colab.research.google.com/assets/colab-badge.svg\" alt=\"Open In Colab\"/></a>"
      ]
    },
    {
      "cell_type": "markdown",
      "metadata": {
        "id": "UhWJn8tYT2qr"
      },
      "source": [
        "**CONTINUACIÓN DE LOS EJEMPLOS DE USO DE LISTA DE COMPRENSIÓN**\n",
        "\n",
        "---\n",
        "*COMPRESIÓN DE CONJUNTOS*\n",
        "\n",
        "---\n",
        "\n",
        "La comprensión de conjuntos es muy similar a la que veníamos manejando con Lista. La única diferencia es que se usa los {}\n",
        "\n",
        "Recordemos que los conjuntos, también denominados *sets* no permiten dupliados, es decir, cada elemento es único. Si se llega a añadir en elemento repetido, no arrojará error, pero no se mostrará en el print."
      ]
    },
    {
      "cell_type": "code",
      "metadata": {
        "colab": {
          "base_uri": "https://localhost:8080/"
        },
        "id": "ynIhMlPUUKla",
        "outputId": "525bc70e-b32e-4d59-e058-54162d4a6aad"
      },
      "source": [
        "sa=\"ema ama a mama\"\n",
        "sa2={i for i in sa if i==\"m\"}\n",
        "print(sa2)"
      ],
      "execution_count": null,
      "outputs": [
        {
          "output_type": "stream",
          "text": [
            "{'m'}\n"
          ],
          "name": "stdout"
        }
      ]
    },
    {
      "cell_type": "markdown",
      "metadata": {
        "id": "kAYWbNPyUMPF"
      },
      "source": [
        "Ahora, veámos a continuación el caso de dictionarios de comprensión. La única diferencia que tiene respecto a las listas o conjuntos de comprensión es la especificación de llaves o claves(key)."
      ]
    },
    {
      "cell_type": "code",
      "metadata": {
        "colab": {
          "base_uri": "https://localhost:8080/"
        },
        "id": "Ph5BzJBqUXeg",
        "outputId": "a65002eb-ef8e-488b-c89d-29929ba913e6"
      },
      "source": [
        "lista1=['nombre', 'apellido', 'ciudad']\n",
        "lista2=['Ana', 'Rodriguez', 'Popayan']\n",
        "\n",
        "dic={i:j for i,j in zip(lista1, lista2)}\n",
        "print(dic)"
      ],
      "execution_count": null,
      "outputs": [
        {
          "output_type": "stream",
          "text": [
            "{'nombre': 'Ana', 'apellido': 'Rodriguez', 'ciudad': 'Popayan'}\n"
          ],
          "name": "stdout"
        }
      ]
    },
    {
      "cell_type": "markdown",
      "metadata": {
        "id": "25jG8KvIUbf5"
      },
      "source": [
        "**NOTA**\n",
        "\n",
        "Podemos observar que añadiendo  : asignamos un valor a la llave declarada, a su vez, usamos zip() el cual tiene como función iterar dos listas en paralelo. Es decir, con zip, podemos convertir dos listas en un diccionario y el for, se manejaría iterando dos valores en simultaneo."
      ]
    },
    {
      "cell_type": "markdown",
      "metadata": {
        "id": "T5x_j641UuQe"
      },
      "source": [
        "**OTRAS ESTRUCTURAS DE CONTROL**\n",
        "\n",
        "---\n",
        "\n",
        "1. Switch\n",
        "2. Brak.\n",
        "3. Continue\n",
        "4. Complemento de iteración (Enumerate)\n",
        "\n",
        "**1. Switch**\n",
        "\n",
        "El Switch, es una herramienta que permite ejecutar diferentes secciones de código, dependeiendo de las condiciones impustas.\n",
        "Su función, es muy similar *if anidados o varios por separado al mismo tiempo*.\n",
        "\n",
        "Sin embargo, en Python no hay un switch directo.\n",
        "\n",
        "---\n",
        "\n",
        "**2. Break**\n",
        "\n",
        "Nos permite alterar el comportamiento de los ciclos *while* y *for*. Directamente su función, es la de finalizar los ciclos.\n",
        "\n"
      ]
    },
    {
      "cell_type": "code",
      "metadata": {
        "colab": {
          "base_uri": "https://localhost:8080/"
        },
        "id": "zFJgJPKCU9Kj",
        "outputId": "a524965d-fb26-453f-d1ce-65ddaf3e0cb0"
      },
      "source": [
        "x=\"Andrea\" # sin break va a generar error\n",
        "for i in x:\n",
        "  if i==\"e\":\n",
        "    print(\"se obtuvo la letra e\")\n",
        "  break\n",
        "print(i)"
      ],
      "execution_count": null,
      "outputs": [
        {
          "output_type": "stream",
          "text": [
            "A\n"
          ],
          "name": "stdout"
        }
      ]
    },
    {
      "cell_type": "code",
      "metadata": {
        "colab": {
          "base_uri": "https://localhost:8080/"
        },
        "id": "P9s4gFtaVCG2",
        "outputId": "8b7ede41-6617-41ce-f876-49d18bff2f34"
      },
      "source": [
        "x=15 #generar valor en una variable tipo numerico entero, de ahí aplicamos el ciclo de while... mientras llegemos a este punto de que este número sea verdadero.. quieor que se me genere el siguiente número\n",
        "while True: \n",
        "  x -=1\n",
        "  print(x)\n",
        "  if x==0:\n",
        "    break\n",
        "print(\"se finaliza ciclo\")"
      ],
      "execution_count": null,
      "outputs": [
        {
          "output_type": "stream",
          "text": [
            "14\n",
            "13\n",
            "12\n",
            "11\n",
            "10\n",
            "9\n",
            "8\n",
            "7\n",
            "6\n",
            "5\n",
            "4\n",
            "3\n",
            "2\n",
            "1\n",
            "0\n",
            "se finaliza ciclo\n"
          ],
          "name": "stdout"
        }
      ]
    },
    {
      "cell_type": "code",
      "metadata": {
        "colab": {
          "base_uri": "https://localhost:8080/"
        },
        "id": "qXdBJYJrVHQC",
        "outputId": "60cb7397-ea16-4be1-9d13-29e409877c52"
      },
      "source": [
        "#mezcla del uso de break con bucles anidados\n",
        "\n",
        "for i in range(1,8):\n",
        "  for j in range(1,8):\n",
        "    break\n",
        "  print(i,j)\n",
        "\n",
        "  #El break no afecta el *for* exterior, rompre el ciclo anidado en su conjunto\n",
        "  # Pero no afecta direcamente el ciclo exterior"
      ],
      "execution_count": null,
      "outputs": [
        {
          "output_type": "stream",
          "text": [
            "1 1\n",
            "2 1\n",
            "3 1\n",
            "4 1\n",
            "5 1\n",
            "6 1\n",
            "7 1\n"
          ],
          "name": "stdout"
        }
      ]
    },
    {
      "cell_type": "markdown",
      "metadata": {
        "id": "lKRqsGZkUIcQ"
      },
      "source": [
        "**2. CONTINUE**\n",
        "\n",
        "---\n",
        "\n",
        "El *continue* se salta todo el código restante en la iteración actual y vuelve al principio en caso que quede elementos por iterar.\n",
        "\n",
        "Diferencias entre break y continue:\n",
        "La principal diferencia es que el continue no rompe el ciclo, sino que pasa a la iteración pendiente.\n",
        "\n"
      ]
    },
    {
      "cell_type": "code",
      "metadata": {
        "colab": {
          "base_uri": "https://localhost:8080/"
        },
        "id": "2U_YdswvVVb4",
        "outputId": "07d5c399-5004-49d9-b1e5-ce74e13611a0"
      },
      "source": [
        "#Ejemplo\n",
        "\n",
        "x=\"Andrea\"\n",
        "for i in x:\n",
        "  if i==\"r\":\n",
        "    continue \n",
        "  print(i)"
      ],
      "execution_count": null,
      "outputs": [
        {
          "output_type": "stream",
          "text": [
            "A\n",
            "n\n",
            "d\n",
            "e\n",
            "a\n"
          ],
          "name": "stdout"
        }
      ]
    },
    {
      "cell_type": "code",
      "metadata": {
        "colab": {
          "base_uri": "https://localhost:8080/",
          "height": 132
        },
        "id": "ISMT-b8lVef2",
        "outputId": "2aa40367-b738-41c6-8133-537e61c43ac3"
      },
      "source": [
        "#ejemplo de caso con while########################################################## pendiente\n",
        "x= "
      ],
      "execution_count": null,
      "outputs": [
        {
          "output_type": "error",
          "ename": "SyntaxError",
          "evalue": "ignored",
          "traceback": [
            "\u001b[0;36m  File \u001b[0;32m\"<ipython-input-43-127e15d0d9f4>\"\u001b[0;36m, line \u001b[0;32m2\u001b[0m\n\u001b[0;31m    x=\u001b[0m\n\u001b[0m       ^\u001b[0m\n\u001b[0;31mSyntaxError\u001b[0m\u001b[0;31m:\u001b[0m invalid syntax\n"
          ]
        }
      ]
    },
    {
      "cell_type": "markdown",
      "metadata": {
        "id": "xQr3LJEyVo99"
      },
      "source": [
        "**Iterar con enumerate**\n",
        "\n",
        "---\n",
        "Python nos permite iterar colecciones de objetos y elementos de la misma forma. \n",
        "Sin embargo, hay una opción que es que en algunas situaciones que queramos acceder a un elemento ordenado podemos hacerlo, nombrando i el indice de cada elemento ###################"
      ]
    },
    {
      "cell_type": "code",
      "metadata": {
        "colab": {
          "base_uri": "https://localhost:8080/"
        },
        "id": "oRsmJawPV-Ah",
        "outputId": "97d12a7d-e727-41b2-bd8d-2686228b3476"
      },
      "source": [
        "w=[\"sa\", \"se\", \"si\", \"so\", \"su\"]\n",
        "indice=1\n",
        "for i in w:\n",
        " print(indice,i)\n",
        " indice +=1\n",
        " \n",
        " ############"
      ],
      "execution_count": null,
      "outputs": [
        {
          "output_type": "stream",
          "text": [
            "1 sa\n",
            "2 se\n",
            "3 si\n",
            "4 so\n",
            "5 su\n"
          ],
          "name": "stdout"
        }
      ]
    },
    {
      "cell_type": "code",
      "metadata": {
        "id": "SqfTBojGWA0T"
      },
      "source": [
        "w=[\"sa\", \"se\", \"si\", \"so\", \"su\"]\n",
        "for indice, i in enumerate(w):\n",
        "  print(indice,i)\n",
        "\n",
        "x=list(enumerate(w))\n",
        "print(x)"
      ],
      "execution_count": null,
      "outputs": []
    },
    {
      "cell_type": "markdown",
      "metadata": {
        "id": "TI4hsA0HWHRp"
      },
      "source": [
        "**Uso zip()**\n",
        "#la función directa de conversión de tuplas\n",
        "---\n",
        "\n",
        "Si pasamos dos listas a *zip*, ek resultado será una tupla en donde cada elemento tendrá ########### cada uno de los elementos de las entradas\n",
        "\n"
      ]
    },
    {
      "cell_type": "code",
      "metadata": {
        "colab": {
          "base_uri": "https://localhost:8080/"
        },
        "id": "TJpPA3v_WK4P",
        "outputId": "35c40c0d-6cc5-47cf-b66d-6f6079c9c200"
      },
      "source": [
        "a=[1,2,3]\n",
        "b=[\"a\",\"b\",\"c\",]\n",
        "x=(\"q\",\"w\",\"e\")\n",
        "z=(10,20,20)\n",
        "c=zip(a,b)\n",
        "print(list(c))\n",
        "\n",
        "\n",
        "for i, j in zip(a,b):\n",
        "  print(\"Número\", i, \"letras\", j)\n",
        "\n",
        "\n",
        "  ####### REVISARR\n",
        "\n",
        "a=[1,2,3]\n",
        "b=[\"a\",\"b\",\"c\",]\n",
        "x=(\"q\",\"w\",\"e\")\n",
        "z=(10,20,20)\n",
        "c=zip(a,b)\n",
        "print(list(c))\n",
        "\n",
        "\n",
        "for lu, la, le, li in zip(a,b,x,z):\n",
        "  print(\"Número\", i, \"letras\", j)\n"
      ],
      "execution_count": 13,
      "outputs": [
        {
          "output_type": "stream",
          "text": [
            "[(1, 'a'), (2, 'b'), (3, 'c')]\n",
            "Número 1 letras a\n",
            "Número 2 letras b\n",
            "Número 3 letras c\n",
            "[(1, 'a'), (2, 'b'), (3, 'c')]\n",
            "Número 3 letras c\n",
            "Número 3 letras c\n",
            "Número 3 letras c\n"
          ],
          "name": "stdout"
        }
      ]
    },
    {
      "cell_type": "code",
      "metadata": {
        "colab": {
          "base_uri": "https://localhost:8080/"
        },
        "id": "S6MXKHh0Ww_s",
        "outputId": "efe92c0b-9849-48ae-ab82-4fcd39186f81"
      },
      "source": [
        "a=[1,2,6]   \n",
        "b=[\"a\",\"b\"]\n",
        "\n",
        "for sa, se in zip(a,b):\n",
        "  print(sa, se)\n"
      ],
      "execution_count": 14,
      "outputs": [
        {
          "output_type": "stream",
          "text": [
            "1 a\n",
            "2 b\n"
          ],
          "name": "stdout"
        }
      ]
    },
    {
      "cell_type": "code",
      "metadata": {
        "id": "iq_MUY_rW1ow",
        "colab": {
          "base_uri": "https://localhost:8080/"
        },
        "outputId": "4368d141-6774-424f-fe3e-2f9a9612ddeb"
      },
      "source": [
        "c=[(1,'a'), (2,'b'), (2,'c')]   #ESTO ES PARA ROMPER CONJUTNTOS\n",
        "a,b=zip(*c)\n",
        "print(a)\n",
        "print(b)"
      ],
      "execution_count": 15,
      "outputs": [
        {
          "output_type": "stream",
          "text": [
            "(1, 2, 2)\n",
            "('a', 'b', 'c')\n"
          ],
          "name": "stdout"
        }
      ]
    },
    {
      "cell_type": "markdown",
      "metadata": {
        "id": "XFn2q4-kW5V-"
      },
      "source": [
        "**FUNCIONES**\n",
        "\n",
        "---\n",
        "\n",
        "La función nos permite ordenar de manera adecuada la generación de variables de objetos y bloques de código por ciclos y demás estructura.\n",
        "\n",
        "---\n",
        "La sintaxis, es la siguiente:\n",
        "\n",
        "*def* nombre_funcion(argumentos):          bloque de código\n",
        "nombre_funcion(argumentos2)\n",
        "\n",
        "---\n",
        "\n",
        "argumentos=es la cantidad de elementos que vamos a considerar\n"
      ]
    },
    {
      "cell_type": "code",
      "metadata": {
        "id": "_s9tZU5sXF1x",
        "colab": {
          "base_uri": "https://localhost:8080/"
        },
        "outputId": "2589132d-a4df-4404-cce4-efc2a987e3c0"
      },
      "source": [
        "def f(a):  # en lugra de f, puedo poner lo que yo quiera\n",
        "  return 2*a\n",
        "y=f(3)\n",
        "print(y)"
      ],
      "execution_count": 16,
      "outputs": [
        {
          "output_type": "stream",
          "text": [
            "6\n"
          ],
          "name": "stdout"
        }
      ]
    },
    {
      "cell_type": "code",
      "metadata": {
        "colab": {
          "base_uri": "https://localhost:8080/"
        },
        "id": "Edt5-jnoaeO4",
        "outputId": "d72f0222-7f87-4b13-c9a9-391f7034b7b2"
      },
      "source": [
        "a=[1,2,3]\n",
        "b=[\"a\",\"b\",\"c\"]\n",
        "x=(\"q\",\"w\",\"e\")\n",
        "z=(10,20,20)\n",
        "c=zip(a,c)\n",
        "print(list(c))\n",
        "\n",
        "\n",
        "for i, j in zip(a,b):\n",
        "  print(\"Número\", i, \"letras\", j)\n",
        "\n",
        "a=[1,2,3]\n",
        "b=[\"a\",\"b\",\"c\"]\n",
        "x=(\"q\",\"w\",\"e\")\n",
        "z=(10,20,20)\n",
        "c=zip(a,b)\n",
        "print(list(c))\n",
        "\n",
        "\n",
        "for lu, la, le, li in zip(a,b,x,z):\n",
        "  print(\"Número\", i, \"letras\", j)\n"
      ],
      "execution_count": 17,
      "outputs": [
        {
          "output_type": "stream",
          "text": [
            "[(1, (1, 'a')), (2, (2, 'b')), (3, (2, 'c'))]\n",
            "Número 1 letras a\n",
            "Número 2 letras b\n",
            "Número 3 letras c\n",
            "[(1, 'a'), (2, 'b'), (3, 'c')]\n",
            "Número 3 letras c\n",
            "Número 3 letras c\n",
            "Número 3 letras c\n"
          ],
          "name": "stdout"
        }
      ]
    },
    {
      "cell_type": "code",
      "metadata": {
        "colab": {
          "base_uri": "https://localhost:8080/"
        },
        "id": "MKLpPfhQ4goC",
        "outputId": "4d4eea47-5828-43b5-a977-1196c5bd1b34"
      },
      "source": [
        "a=[1,2,6]\n",
        "b=[\"a\",\"b\"]\n",
        "\n",
        "for sa, se in zip(a,b):\n",
        "  print(sa,se)"
      ],
      "execution_count": 18,
      "outputs": [
        {
          "output_type": "stream",
          "text": [
            "1 a\n",
            "2 b\n"
          ],
          "name": "stdout"
        }
      ]
    },
    {
      "cell_type": "code",
      "metadata": {
        "colab": {
          "base_uri": "https://localhost:8080/"
        },
        "id": "b9NMaCpv4f5Y",
        "outputId": "cb338a76-90e0-476f-ee41-11388d98a67b"
      },
      "source": [
        "c=[(1,'a'), (2,'b'), (3,'c')]  #Esto es para romper conjuntos \n",
        "a,b= zip(*c)\n",
        "print(a)\n",
        "print(b)"
      ],
      "execution_count": 19,
      "outputs": [
        {
          "output_type": "stream",
          "text": [
            "(1, 2, 3)\n",
            "('a', 'b', 'c')\n"
          ],
          "name": "stdout"
        }
      ]
    },
    {
      "cell_type": "markdown",
      "metadata": {
        "id": "nAdsv0sz59TM"
      },
      "source": [
        "**FUNCIONES**\n",
        "\n",
        "\n",
        "---\n",
        "\n",
        "La función nos permite ordenar de manera adecuada la generación de objetos y bloques de código por cilos y demás estructura.\n",
        "\n",
        "La sintaxis es al siguiente:\n",
        "\n",
        "def nombre_funcion(argumentos):código\n",
        "nombre_funcion(argumento2)\n"
      ]
    },
    {
      "cell_type": "code",
      "metadata": {
        "colab": {
          "base_uri": "https://localhost:8080/"
        },
        "id": "rZaAB6RF6x1T",
        "outputId": "1eb79803-8d44-4294-f358-dbe7bc934ac4"
      },
      "source": [
        "def f(a):\n",
        "  return 2*a\n",
        "y=f(3)\n",
        "print(y)"
      ],
      "execution_count": 20,
      "outputs": [
        {
          "output_type": "stream",
          "text": [
            "6\n"
          ],
          "name": "stdout"
        }
      ]
    },
    {
      "cell_type": "markdown",
      "metadata": {
        "id": "blSLwkSv7mud"
      },
      "source": [
        "Las funciones no sólo realizan una operaciónn con sus entradas (argumentos de inico), sino tambien parten de los siguientes principios:\n",
        "\n",
        "**1.Reusabilidad:** Si tenemos un fragmento de codigo uado en muchos sitos y se guarda en una funcion. Nos evitará teneros códigos repetidos, además de la conveniencia qeu tiene por ser facilmente editable.\n",
        "\n",
        "**2. Modularidad:** Permite legienbilidad de forma más sencilla, es decir, los largos bloques de código se pueden agrupar en móva adulos o funciones y la lectura va a ser mucho mas sencilla."
      ]
    },
    {
      "cell_type": "code",
      "metadata": {
        "colab": {
          "base_uri": "https://localhost:8080/"
        },
        "id": "uXpYC0-u8nWd",
        "outputId": "87d8865c-3fd1-4ab4-f39d-62bd34a7b06f"
      },
      "source": [
        "#Ejemplo 1: Función sin argumentos de entrada ni prámetros de salida\n",
        "\n",
        "def s(): #Declaración de función\n",
        "  print(\"Hi Luisa\")\n",
        "s() #Al cerrar la definición de función me va aparecer la ejecución de código"
      ],
      "execution_count": 21,
      "outputs": [
        {
          "output_type": "stream",
          "text": [
            "Hi Luisa\n"
          ],
          "name": "stdout"
        }
      ]
    },
    {
      "cell_type": "code",
      "metadata": {
        "colab": {
          "base_uri": "https://localhost:8080/"
        },
        "id": "y4LrP64C9PLI",
        "outputId": "22ced8bd-42d1-4a81-a774-2bab506f57c4"
      },
      "source": [
        "#Ejemplo 2: Incluir argumentos de entrada \n",
        "\n",
        "def s (apellido):\n",
        "  print(\"Hi Luisa\", apellido)\n",
        "s(\"Varon\")"
      ],
      "execution_count": 22,
      "outputs": [
        {
          "output_type": "stream",
          "text": [
            "Hi Luisa Varon\n"
          ],
          "name": "stdout"
        }
      ]
    },
    {
      "cell_type": "code",
      "metadata": {
        "colab": {
          "base_uri": "https://localhost:8080/"
        },
        "id": "23MJIxi59xZg",
        "outputId": "2b0f4c51-7433-4f8d-e2af-58a780d5de2b"
      },
      "source": [
        "#Ejemplo 3: Usando dos argumentos de entrada y salida y operaciones matemáticas\n",
        "\n",
        "def suma(a,b):\n",
        "  return a+b\n",
        "suma(3,5)"
      ],
      "execution_count": 23,
      "outputs": [
        {
          "output_type": "execute_result",
          "data": {
            "text/plain": [
              "8"
            ]
          },
          "metadata": {
            "tags": []
          },
          "execution_count": 23
        }
      ]
    },
    {
      "cell_type": "code",
      "metadata": {
        "colab": {
          "base_uri": "https://localhost:8080/"
        },
        "id": "p60wELBd-voZ",
        "outputId": "b3181f2b-3524-4b69-a1c8-bdcc4354da7a"
      },
      "source": [
        "#Ejemplo 4: Reusabilidad del código\n",
        "suma(a=4, b=20)"
      ],
      "execution_count": 24,
      "outputs": [
        {
          "output_type": "execute_result",
          "data": {
            "text/plain": [
              "24"
            ]
          },
          "metadata": {
            "tags": []
          },
          "execution_count": 24
        }
      ]
    },
    {
      "cell_type": "code",
      "metadata": {
        "id": "MR8ZjNB-AWwL"
      },
      "source": [
        ""
      ],
      "execution_count": 24,
      "outputs": []
    },
    {
      "cell_type": "code",
      "metadata": {
        "colab": {
          "base_uri": "https://localhost:8080/"
        },
        "id": "LwNvwR40_VZR",
        "outputId": "f213c3ea-c770-481b-d3b6-fb3467704e8a"
      },
      "source": [
        "#Ejemplo 5: Argumentos fijos desde el inicio\n",
        "\n",
        "def suma(a,b,c,d=1):  ##Pendiente corrección de default\n",
        "  return a+b+c+d\n",
        "suma(2,3,4)\n"
      ],
      "execution_count": 25,
      "outputs": [
        {
          "output_type": "execute_result",
          "data": {
            "text/plain": [
              "10"
            ]
          },
          "metadata": {
            "tags": []
          },
          "execution_count": 25
        }
      ]
    },
    {
      "cell_type": "code",
      "metadata": {
        "colab": {
          "base_uri": "https://localhost:8080/"
        },
        "id": "DeelGj7zA6e9",
        "outputId": "5a73e040-4f50-436d-9dbf-7928fb024e31"
      },
      "source": [
        "def suma(a=2,b=3,c=4,d=5):\n",
        "  return a+b+c+d\n",
        "suma()\n",
        "\n",
        "suma(1)\n",
        "suma(a=1,c=5)\n",
        "\n"
      ],
      "execution_count": 26,
      "outputs": [
        {
          "output_type": "execute_result",
          "data": {
            "text/plain": [
              "14"
            ]
          },
          "metadata": {
            "tags": []
          },
          "execution_count": 26
        }
      ]
    },
    {
      "cell_type": "code",
      "metadata": {
        "id": "XwLT0z3fB1Os"
      },
      "source": [
        "#Ejemplo 6: Argumentos de longitud variable\n",
        "\n",
        "def suma(number):\n",
        "  total=0\n",
        "  for i in number:\n",
        "    total +=i\n",
        "  return total\n",
        "  suma([1,3,5,4])\n",
        "  "
      ],
      "execution_count": 27,
      "outputs": []
    },
    {
      "cell_type": "markdown",
      "metadata": {
        "id": "L2gAmQxLDUnE"
      },
      "source": [
        ""
      ]
    },
    {
      "cell_type": "markdown",
      "metadata": {
        "id": "8RNDm4NsDR2E"
      },
      "source": [
        "**Nota:** Se realizo la suma de todos los números de entrada. Para ello la declaración de los argumentos de salida sería como una lista.\n",
        "\n",
        "La forma de sintaxis anterior es valida, sin embargo, tenemos un solo argumento que es una lista de números.\n",
        "\n",
        "Si declaramos un argumnento con *, esto hará que el argumento guardado como tupla de manera automática"
      ]
    },
    {
      "cell_type": "code",
      "metadata": {
        "colab": {
          "base_uri": "https://localhost:8080/"
        },
        "id": "g6JMGs5eEAcV",
        "outputId": "20a96b19-8b3f-477a-da6c-690e3d78b562"
      },
      "source": [
        "def suma(*number):\n",
        "  print(type(number))\n",
        "  total=0\n",
        "  for i in number:\n",
        "    total+=i\n",
        "  return total\n",
        "suma(2,3,5,4)"
      ],
      "execution_count": 28,
      "outputs": [
        {
          "output_type": "stream",
          "text": [
            "<class 'tuple'>\n"
          ],
          "name": "stdout"
        },
        {
          "output_type": "execute_result",
          "data": {
            "text/plain": [
              "14"
            ]
          },
          "metadata": {
            "tags": []
          },
          "execution_count": 28
        }
      ]
    },
    {
      "cell_type": "markdown",
      "metadata": {
        "id": "nb1jL31n1gbe"
      },
      "source": [
        "**CLASE 7**\n",
        "\n",
        "**CONTINUACIÓN DE FUNCIONES**\n",
        "---\n"
      ]
    },
    {
      "cell_type": "code",
      "metadata": {
        "id": "vr1DcXYt1yJT"
      },
      "source": [
        "suma=(1,2,5,6,7,9) #Al realizar el cambio y/o edición de la función suma  que veníamos usando,\n",
        "#se puede añadir n elementos para iterar la función"
      ],
      "execution_count": 29,
      "outputs": []
    },
    {
      "cell_type": "markdown",
      "metadata": {
        "id": "utSLrRSc2jw5"
      },
      "source": [
        "El uso del **:\n",
        "El uso del doble * nos permite tener como parámetro de entrada una ista de elementos de forma de clave y valor. La forma de iterar sela usando el comando *item()*"
      ]
    },
    {
      "cell_type": "code",
      "metadata": {
        "colab": {
          "base_uri": "https://localhost:8080/"
        },
        "id": "-LwFipwb3AFO",
        "outputId": "32676cf3-6ff6-4d2c-a3c6-ed826a5e317e"
      },
      "source": [
        "def suma(**dado):\n",
        "  suma=0;\n",
        "  for i,j in dado.items():        #i para claves j para elementos\n",
        "    suma +=j\n",
        "  return suma\n",
        "\n",
        "suma(a=3, b=30, c=7)"
      ],
      "execution_count": 30,
      "outputs": [
        {
          "output_type": "execute_result",
          "data": {
            "text/plain": [
              "40"
            ]
          },
          "metadata": {
            "tags": []
          },
          "execution_count": 30
        }
      ]
    },
    {
      "cell_type": "markdown",
      "metadata": {
        "id": "zgT-Ybim393D"
      },
      "source": [
        "**Ampliquemos la definición del comando Return**\n",
        "\n",
        "---\n",
        "\n",
        "\n",
        "1. Devolver parámetros\n"
      ]
    },
    {
      "cell_type": "code",
      "metadata": {
        "colab": {
          "base_uri": "https://localhost:8080/",
          "height": 35
        },
        "id": "0dnomI474V5B",
        "outputId": "fdfbfe0c-9fd1-4acd-e4c5-b98aa57b771f"
      },
      "source": [
        "def w():\n",
        "  return \"Hi\"\n",
        "w()"
      ],
      "execution_count": 31,
      "outputs": [
        {
          "output_type": "execute_result",
          "data": {
            "application/vnd.google.colaboratory.intrinsic+json": {
              "type": "string"
            },
            "text/plain": [
              "'Hi'"
            ]
          },
          "metadata": {
            "tags": []
          },
          "execution_count": 31
        }
      ]
    },
    {
      "cell_type": "markdown",
      "metadata": {
        "id": "ouc_0qDV4o4T"
      },
      "source": [
        "2. Devolver varias variables "
      ]
    },
    {
      "cell_type": "code",
      "metadata": {
        "id": "MBGozrw-4yZg"
      },
      "source": [
        "def sd(a,b,c):\n",
        "  q=a+b+c  #Declaración de variable con una suma de argumentos\n",
        "  z=q/3     #Declaración de variable con el promedio\n",
        "  return q,z\n",
        "q,z=sd(2,4,6)\n"
      ],
      "execution_count": 45,
      "outputs": []
    },
    {
      "cell_type": "markdown",
      "metadata": {
        "id": "IbU4uw4i5sHq"
      },
      "source": [
        "**Formas de hacer documentación en programación y bloques de código o línea"
      ]
    },
    {
      "cell_type": "code",
      "metadata": {
        "colab": {
          "base_uri": "https://localhost:8080/"
        },
        "id": "G6-dVI-c57bS",
        "outputId": "eb441a81-6e82-44f9-dfbb-ffb7be5a31a9"
      },
      "source": [
        "def paula(a,b):\n",
        "  \"\"\"\n",
        "  Descripción de la función , los parámetos que se van a usar, \n",
        "  explicar como se usa y que operaciones devuelve esta función (docstring)\n",
        "  \"\"\"\n",
        "  return a+b\n",
        "paula(2,3)"
      ],
      "execution_count": 46,
      "outputs": [
        {
          "output_type": "execute_result",
          "data": {
            "text/plain": [
              "5"
            ]
          },
          "metadata": {
            "tags": []
          },
          "execution_count": 46
        }
      ]
    },
    {
      "cell_type": "code",
      "metadata": {
        "colab": {
          "base_uri": "https://localhost:8080/"
        },
        "id": "upjEllnO63-Z",
        "outputId": "bcd8bbc1-b8e0-438d-f304-5a6b65cdf785"
      },
      "source": [
        "help(paula)"
      ],
      "execution_count": 47,
      "outputs": [
        {
          "output_type": "stream",
          "text": [
            "Help on function paula in module __main__:\n",
            "\n",
            "paula(a, b)\n",
            "    Descripción de la función , los parámetos que se van a usar, \n",
            "    explicar como se usa y que operaciones devuelve esta función (docstring)\n",
            "\n"
          ],
          "name": "stdout"
        }
      ]
    },
    {
      "cell_type": "code",
      "metadata": {
        "colab": {
          "base_uri": "https://localhost:8080/"
        },
        "id": "Yfw_gHj97Hmq",
        "outputId": "49fd0611-9ccb-4ef9-e6b7-db5e2f613b01"
      },
      "source": [
        "print(paula.__doc__) #Otra forma de llamar el comentario es print, del nombre de la \n",
        "#funcion seguido de punto seguido, doble guión bajo, escribir doc y seguido \n",
        "#doble guión bajo entre parénteris "
      ],
      "execution_count": 48,
      "outputs": [
        {
          "output_type": "stream",
          "text": [
            "\n",
            "  Descripción de la función , los parámetos que se van a usar, \n",
            "  explicar como se usa y que operaciones devuelve esta función (docstring)\n",
            "  \n"
          ],
          "name": "stdout"
        }
      ]
    },
    {
      "cell_type": "markdown",
      "metadata": {
        "id": "htxaH8XJ8Z9A"
      },
      "source": [
        "**Diferencia entre valores y referencias**\n",
        "---\n",
        "Existen dos conceptos de paso por *valor* y por *referencia que se aplican a la hora de tratar a los parametros de entrada deuna función:\n",
        "\n",
        "1. Si se usa un parámetro que pasa por un valor, se crea una copia local de la variable local implica que cualquier modificacion sobre esta no tendra repercusiones sobre la base original\n",
        "\n",
        "2. Si la varible para como referencia, sí actuará directamente sobre la base original."
      ]
    },
    {
      "cell_type": "code",
      "metadata": {
        "colab": {
          "base_uri": "https://localhost:8080/"
        },
        "id": "MykK2o-V9s7P",
        "outputId": "0c488e4a-f428-47b3-9e48-56739d7bbf3b"
      },
      "source": [
        "#Ejemplo de paso por **valor**\n",
        "\n",
        "x=3\n",
        "def funcion(w):\n",
        "  w=0\n",
        "funcion(x)\n",
        "print(x)"
      ],
      "execution_count": 49,
      "outputs": [
        {
          "output_type": "stream",
          "text": [
            "3\n"
          ],
          "name": "stdout"
        }
      ]
    },
    {
      "cell_type": "markdown",
      "metadata": {
        "id": "cz87hgNg-dds"
      },
      "source": [
        "1. Inicio con x=3\n",
        "2. Se lo paso a la funcion()\n",
        "3. Dentro de la función hacemos que la variable valga cero\n",
        "4. Dado que pasa como valor dentro de la función se crea una copia local de x. Por lo cual, la variable original no se modifica"
      ]
    },
    {
      "cell_type": "code",
      "metadata": {
        "colab": {
          "base_uri": "https://localhost:8080/"
        },
        "id": "3BcTmOWt-cB-",
        "outputId": "cb526be3-79b7-4ae6-f90b-d0a8669b1f76"
      },
      "source": [
        "#Caso que pasa por **Referencia**\n",
        "x=[3,6,9,12]\n",
        "def sw(tipo):\n",
        "  tipo.append(50)\n",
        "sw(x)\n",
        "print(x)\n"
      ],
      "execution_count": 50,
      "outputs": [
        {
          "output_type": "stream",
          "text": [
            "[3, 6, 9, 12, 50]\n"
          ],
          "name": "stdout"
        }
      ]
    },
    {
      "cell_type": "markdown",
      "metadata": {
        "id": "iZAI4ld_BvQL"
      },
      "source": [
        "Fu"
      ]
    },
    {
      "cell_type": "markdown",
      "metadata": {
        "id": "YBzSzaKwBsv1"
      },
      "source": [
        "**Tipos de Funciones**\n",
        "---\n",
        "1. Funciones Lambda\n",
        "\n",
        "\n",
        "---\n",
        "\n",
        "Son funciones que normalmente se usan para definir el código en una sola linea.\n"
      ]
    },
    {
      "cell_type": "code",
      "metadata": {
        "colab": {
          "base_uri": "https://localhost:8080/"
        },
        "id": "yA5rHF3rCC6-",
        "outputId": "7bf6f5b3-1f47-4f47-b472-0272bd65b1bc"
      },
      "source": [
        "#Loque normalmente sería la definición de la función de este estilo:\n",
        "#def suma(a,b,c,d)\n",
        "#   return a+b+c+d\n",
        " \n",
        "#*# Se puede escribir de la siguiente forma:\n",
        "(lambda a,b,c,d: a+b+c+d)(1,2,3,4)\n"
      ],
      "execution_count": 33,
      "outputs": [
        {
          "output_type": "execute_result",
          "data": {
            "text/plain": [
              "10"
            ]
          },
          "metadata": {
            "tags": []
          },
          "execution_count": 33
        }
      ]
    },
    {
      "cell_type": "code",
      "metadata": {
        "colab": {
          "base_uri": "https://localhost:8080/"
        },
        "id": "Jye24XejDktX",
        "outputId": "ed3a9b20-29e4-4250-f337-b6a4fe97aea4"
      },
      "source": [
        "(lambda *number:sum(number))(1,4,5,5,6,7,8)"
      ],
      "execution_count": 34,
      "outputs": [
        {
          "output_type": "execute_result",
          "data": {
            "text/plain": [
              "36"
            ]
          },
          "metadata": {
            "tags": []
          },
          "execution_count": 34
        }
      ]
    },
    {
      "cell_type": "code",
      "metadata": {
        "colab": {
          "base_uri": "https://localhost:8080/"
        },
        "id": "NcF14fY9EVBp",
        "outputId": "57557c9a-e335-4a1c-8014-e4adbf4d28ed"
      },
      "source": [
        "(lambda **number: sum(number.values()))(a=1,b=4,c=10)"
      ],
      "execution_count": 35,
      "outputs": [
        {
          "output_type": "execute_result",
          "data": {
            "text/plain": [
              "15"
            ]
          },
          "metadata": {
            "tags": []
          },
          "execution_count": 35
        }
      ]
    },
    {
      "cell_type": "code",
      "metadata": {
        "colab": {
          "base_uri": "https://localhost:8080/"
        },
        "id": "_XbTN0j6ExaD",
        "outputId": "8b93ac36-4d6e-45ba-b60e-515c35c351db"
      },
      "source": [
        "luisa=lambda a,b,c,d:a+b+c+d\n",
        "print(luisa(4,6,1,1))\n",
        "\n",
        "\n"
      ],
      "execution_count": 38,
      "outputs": [
        {
          "output_type": "stream",
          "text": [
            "12\n"
          ],
          "name": "stdout"
        }
      ]
    },
    {
      "cell_type": "markdown",
      "metadata": {
        "id": "QjvDBbfrFluU"
      },
      "source": [
        "**RECURSIVIDAD**\n",
        "\n",
        "---\n",
        "Las caracteristicas de una función recursiva son las siguientes:\n",
        "\n",
        "1. Sección en que se llama a sí misma \n",
        "2. Sección del bloque de código donde este la condición que implique retornar sinvolver a llamarse. **(IMPORTANTE)**\n",
        "\n",
        "Los ejemplos tradicionales de Recursividad son la aplicación de **Cálculo factorial** y la **serie de fabionacci**.\n",
        "\n",
        "**1. Cálculo factorial**\n",
        "En matemáticas definimos factorial (n!) como la multipicación de todos sus números predecesores hasta llegar a uno:\n",
        "\n",
        "Ejemplo:\n",
        "\n",
        "5! = 5 * 4 * 3 * 2 * 1\n",
        "\n",
        "100! = 100 * 99 * 98 * 97....\n",
        "\n"
      ]
    },
    {
      "cell_type": "code",
      "metadata": {
        "colab": {
          "base_uri": "https://localhost:8080/"
        },
        "id": "dhAlyod2Hni6",
        "outputId": "53bc3ae9-16bd-40ba-febb-24d4093d0cf3"
      },
      "source": [
        "#Apliquemosun enfoque no recursivo de cálculo fatorial:\n",
        "\n",
        "def factorial(n):\n",
        "  w=1\n",
        "  i=2\n",
        "  while i<=n:\n",
        "    w *=i\n",
        "    i +=1\n",
        "  return w\n",
        "factorial(5)\n"
      ],
      "execution_count": 41,
      "outputs": [
        {
          "output_type": "execute_result",
          "data": {
            "text/plain": [
              "120"
            ]
          },
          "metadata": {
            "tags": []
          },
          "execution_count": 41
        }
      ]
    },
    {
      "cell_type": "code",
      "metadata": {
        "colab": {
          "base_uri": "https://localhost:8080/"
        },
        "id": "iog0Qq5qI6X9",
        "outputId": "a8ff7aef-5ff6-4eed-dbb8-79ace9de8804"
      },
      "source": [
        "#Definamos factorial recursivo:\n",
        "\n",
        "def recursivofac(n):\n",
        "  if n==1:\n",
        "    return 1\n",
        "  else:\n",
        "    return n*recursivofac(n-1)\n",
        "recursivofac(10)"
      ],
      "execution_count": 42,
      "outputs": [
        {
          "output_type": "execute_result",
          "data": {
            "text/plain": [
              "120"
            ]
          },
          "metadata": {
            "tags": []
          },
          "execution_count": 42
        }
      ]
    },
    {
      "cell_type": "markdown",
      "metadata": {
        "id": "VXbhJcDaKrRp"
      },
      "source": [
        "A continuación complementamos los tipos de geradores:\n",
        "\n",
        "1. Return\n",
        "2. Yield\n"
      ]
    },
    {
      "cell_type": "code",
      "metadata": {
        "colab": {
          "base_uri": "https://localhost:8080/"
        },
        "id": "8yGOv5uKK9_f",
        "outputId": "b36dba0b-cd0d-423b-cb92-dd4c73585c5a"
      },
      "source": [
        "def s():\n",
        "  yield 4\n",
        "s()"
      ],
      "execution_count": 44,
      "outputs": [
        {
          "output_type": "execute_result",
          "data": {
            "text/plain": [
              "<generator object s at 0x7f5800fb8d50>"
            ]
          },
          "metadata": {
            "tags": []
          },
          "execution_count": 44
        }
      ]
    },
    {
      "cell_type": "markdown",
      "metadata": {
        "id": "5UeSJbDwLI6h"
      },
      "source": [
        "Cuando usamos el return nos devuelve el número 4, pero cuando usamos el yield nos devuelve un objeto de clase (generator)"
      ]
    }
  ]
}